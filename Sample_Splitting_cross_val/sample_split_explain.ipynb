{
 "cells": [
  {
   "cell_type": "markdown",
   "metadata": {},
   "source": [
    "# Question 1:\n",
    "\n",
    "Write a notebook (R, Python, etc.) where you briefly explain the idea of sample splitting to evaluate the performance of prediction rules to a fellow student, and show how to use it on the wage data. "
   ]
  },
  {
   "cell_type": "markdown",
   "metadata": {},
   "source": [
    "# Introduction:\n",
    "Across a population, some outcome $Y$ can be explained by a function of explantory variables $X$ such that $Y = f(X) + \\epsilon$. Research often attemps to uncover this latent relationship with available data. This, in part, leads to the problem of prediction, which boils down to two questions:\n",
    "\n",
    "1. What combination of variables $X$ best explains $Y$, such that our estimated model $\\hat{f}(X)$ closely resembles $Y$?\n",
    "2. How can I assess each model I build?\n",
    "\n",
    "\n",
    "This notebook attemps provide additional insights to the second question by introducing and motivating the use sample splitting as a method to assess a model's predictive power.\n",
    "\n"
   ]
  },
  {
   "cell_type": "markdown",
   "metadata": {},
   "source": [
    "# Building Your Model:\n",
    "Imagine you're a researcher studying the effects of wages for different people. Your goal is to be able to predict person $i$'s wage based off their characteristics $X$. This goal relates to question one of the prediction problem, finding the best $\\hat{f}(X)$ $\\approx Y$. To do this you collect wage data, assess available covariates, and build a number of models of varying complexity.\n",
    "***"
   ]
  },
  {
   "cell_type": "markdown",
   "metadata": {},
   "source": [
    "# Assessing Your Model:\n",
    "After fitting your models & estimating some $\\hat{f}(X) = \\hat{\\beta_0} + \\hat{\\beta_1}X_1 + .... \\hat{\\beta_p}X_p$ you can use a number of metrics to test the model's accucracy. Below are two key measures and their variants:\n",
    "\n",
    "***\n",
    " #### **Meaned Squared Error ($\\bold{MSE}$)**: $\\frac{1}{n}\\Sigma_{i=1}^{n}(Y_i - \\hat{f}(X_i))^2$\n",
    "\n",
    "This measures the average squared distance of individual $i$'s actual wage $Y_i$ and the predicted $\\hat{f}(X_i)=\\hat{Y_i}$ our model predicts. A lower MSE indicates a better predective model.\n",
    "\n",
    " #### **$\\bold{R^2}$**: $1 - \\frac{MSE}{\\frac{1}{n}\\Sigma_{i=1}^{n}Y^2_i}$. \n",
    " \n",
    " R squared measures the total variation in our outcome explained by our model. By inspection you'll notice that $R^2 \\in \\{0,1\\}$. As the distance between $Y$ and $\\hat{Y}$ narrows, $MSE$ grows closers to $0$, meaning $\\frac{MSE}{\\frac{1}{n}\\Sigma_{i=1}^{n}Y^2_i}$ moves closer to $0$. Inversly, if our model is poor at predicting $Y$ then $MSE$ grows larger and $\\frac{MSE}{\\frac{1}{n}\\Sigma_{i=1}^{n}Y^2_i}$ will move closer to 1, leading $R^2$ to equal 0.\n",
    "\n",
    "#### **Adjusted $\\bold{MSE}$ & $\\bold{R^2}$**:\n",
    " \n",
    "One issue with both $MSE$ and $R^2$ is mechanical and can be excaperated by working with data involving a large number of variables $p$, a small set of observations $n$, or both. Namely, that adding more variables, regardless of predictive power, will neccesarrily increase $MSE$ and in-turn increase $R^2$. Therefore one solution to curb this artifical inflation of model accucracy is introducing \"adjusted\" measures of both where we multiple $MSE$ or $R^2$ by a penalizer: $\\frac{n}{n-p}$, meaning:\n",
    "\n",
    "$MSE_{adj}$ : ($\\frac{n}{n-p})(\\frac{1}{n}\\Sigma_{i=1}^{n}(Y_i - \\hat{f}(X_i))^2$) \\\n",
    "\\\n",
    "$R_{adj}^2$: ($\\frac{n}{n-p}) (1 - \\frac{MSE}{\\frac{1}{n}\\Sigma_{i=1}^{n}Y^2_i})$"
   ]
  },
  {
   "cell_type": "markdown",
   "metadata": {},
   "source": [
    "# Sample Splitting:\n",
    "After building your models, assessing each, and picking the one with the lowest $MSE$ or highest $R^2$ we are still unsure how this model will fare across the whole population. Ideally in the example above you would have access to the whole population, however collecting such data is costly, timely, and often out of the scope of the research project. A more realistic alternative is testing our model against other randomally sampled datasets, however even this can be too costly to do. This leaves us at an impasse:\n",
    "\n",
    "***How can we assess our in-sample model's accucracy against observations outside our sample?***\n",
    "\n",
    "One simple and effective solution comes in the form of *sample splitting*. In short, sample splitting breaks our data into two sets, one set that we use to train a model $\\hat{f}(X)$, and another other set we use to test $\\hat{f}(X)$ using our assessment metrics.\n",
    "\n",
    "***\n",
    "\n",
    "\n",
    "Generally sample splitting (or data splitting) requires only a few key steps:\n",
    "1. Across our full dataset, split observations $N = \\{1, 2, 3, ..., n\\}$, into a training set $N_{training}$ & testing set $N_{testing}$. The proportion of observations to be put into $N_{training}$ or $N_{testing}$ is contingent on the complexity of the model, number of observations, and domain context.\n",
    "2. With $N_{training}$ estimate parameters $\\hat{\\beta_0}, \\hat{\\beta_1}, ... \\hat{\\beta_p}$ from all models $\\hat{f}$ you wish to test.\n",
    "3. With $N_{testing}$, predict their $Y$ as $\\hat{Y}$ using the parameters & models made in step 2.\n",
    "4. Calculate predictive performance using evaluation metric of choice ($RMSE$, $MSE$, $R^2$, $RMSE_{adj}$, $R_{adj}^2$, etc..), this will measure the distance between $N_{testing}'s$ actual outcome $Y$ and our predicted outcome $\\hat{Y}$.\n",
    "\n"
   ]
  },
  {
   "cell_type": "markdown",
   "metadata": {},
   "source": [
    "# Example: Wage Data & Sample Splitting\n",
    "\n",
    "Below I use a dataset taken from class:\n",
    "> The data set we consider is from the 2015 March Supplement of the U.S. Current Population Survey.  We select white non-hispanic individuals, aged 25 to 64 years, and working more than 35 hours per week for at least 50 weeks of the year. We exclude self-employed workers; individuals living in group quarters; individuals in the military, agricultural or private household sectors;  individuals with inconsistent reports on earnings and employment status; individuals with allocated or missing information in any of the variables used in the analysis; and individuals with hourly wage below $3$. \n",
    "> The variable of interest $Y$ is the hourly wage rate constructed as the ratio of the annual earnings to the total number of hours worked, which is constructed in turn as the product of number of weeks worked and the usual number of hours worked per week. In our analysis, we also focus on single (never married) workers. The final sample is of size $n=5150$.\n",
    "\n",
    "All analysis is my own, I am new to Python so any coding or intuiton is more than appreciated. I am trying to copy the R code as practice as well!\n",
    "***\n",
    "## Summary Stats/Set-up\n",
    "First let's load in data packages & data:"
   ]
  },
  {
   "cell_type": "code",
   "execution_count": 39,
   "metadata": {},
   "outputs": [],
   "source": [
    "import warnings\n",
    "warnings.simplefilter(action='ignore', category=FutureWarning)\n",
    "import pandas as pd\n",
    "import numpy as np\n",
    "import pyreadr\n",
    "from sklearn.metrics import mean_absolute_error,mean_squared_error, r2_score\n",
    "from sklearn.linear_model import LinearRegression\n",
    "from sklearn.preprocessing import PolynomialFeatures, OneHotEncoder\n",
    "from sklearn.compose import make_column_transformer\n",
    "from sklearn.model_selection import train_test_split, KFold\n",
    "from sklearn.pipeline import make_pipeline\n",
    "from sklearn.model_selection import cross_val_score\n",
    "import matplotlib.pyplot as plt\n",
    "import patsy\n",
    "from sklearn.preprocessing import StandardScaler\n",
    "\n",
    "\n",
    "temp = pyreadr.read_r('wage2015_subsample_inference.RData')\n",
    "df = temp['data']\n",
    "\n",
    "#I am 99.9% sure that exp2, exp3, exp4 are messed up so I manually make them:\n",
    "df = df.drop(['exp2', 'exp3', 'exp4'], axis=1)\n",
    "\n",
    "for num in range(2,5):\n",
    "    name = 'exp' + str(num)\n",
    "    df[name] = df['exp1']**num"
   ]
  },
  {
   "cell_type": "markdown",
   "metadata": {},
   "source": [
    "Next let's inspect our data. Our data contains no missing values and contain some categorical variables that are associated with occupation & industry code."
   ]
  },
  {
   "cell_type": "code",
   "execution_count": 40,
   "metadata": {},
   "outputs": [
    {
     "data": {
      "text/plain": [
       "wage     0\n",
       "lwage    0\n",
       "sex      0\n",
       "shs      0\n",
       "hsg      0\n",
       "scl      0\n",
       "clg      0\n",
       "ad       0\n",
       "mw       0\n",
       "so       0\n",
       "we       0\n",
       "ne       0\n",
       "exp1     0\n",
       "occ      0\n",
       "occ2     0\n",
       "ind      0\n",
       "ind2     0\n",
       "exp2     0\n",
       "exp3     0\n",
       "exp4     0\n",
       "dtype: int64"
      ]
     },
     "execution_count": 40,
     "metadata": {},
     "output_type": "execute_result"
    }
   ],
   "source": [
    "# No missing obs across whole dataset\n",
    "df.isna().sum()"
   ]
  },
  {
   "cell_type": "code",
   "execution_count": 41,
   "metadata": {},
   "outputs": [
    {
     "name": "stdout",
     "output_type": "stream",
     "text": [
      "<class 'pandas.core.frame.DataFrame'>\n",
      "Index: 5150 entries, 10 to 32643\n",
      "Data columns (total 20 columns):\n",
      " #   Column  Non-Null Count  Dtype   \n",
      "---  ------  --------------  -----   \n",
      " 0   wage    5150 non-null   float64 \n",
      " 1   lwage   5150 non-null   float64 \n",
      " 2   sex     5150 non-null   float64 \n",
      " 3   shs     5150 non-null   float64 \n",
      " 4   hsg     5150 non-null   float64 \n",
      " 5   scl     5150 non-null   float64 \n",
      " 6   clg     5150 non-null   float64 \n",
      " 7   ad      5150 non-null   float64 \n",
      " 8   mw      5150 non-null   float64 \n",
      " 9   so      5150 non-null   float64 \n",
      " 10  we      5150 non-null   float64 \n",
      " 11  ne      5150 non-null   float64 \n",
      " 12  exp1    5150 non-null   float64 \n",
      " 13  occ     5150 non-null   category\n",
      " 14  occ2    5150 non-null   category\n",
      " 15  ind     5150 non-null   category\n",
      " 16  ind2    5150 non-null   category\n",
      " 17  exp2    5150 non-null   float64 \n",
      " 18  exp3    5150 non-null   float64 \n",
      " 19  exp4    5150 non-null   float64 \n",
      "dtypes: category(4), float64(16)\n",
      "memory usage: 736.3+ KB\n"
     ]
    }
   ],
   "source": [
    "# It seems like we mostly have float values, but some categorical varibles we ought to transform before building our models.\n",
    "df.info()"
   ]
  },
  {
   "cell_type": "markdown",
   "metadata": {},
   "source": [
    "Next let's grab summary stats on our variables:"
   ]
  },
  {
   "cell_type": "code",
   "execution_count": 42,
   "metadata": {},
   "outputs": [
    {
     "name": "stdout",
     "output_type": "stream",
     "text": [
      "-------------------- Sample Means --------------------\n"
     ]
    },
    {
     "data": {
      "text/plain": [
       "Wage                    23.410410\n",
       "Log Wage                 2.970787\n",
       "Sex                      0.444466\n",
       "Some High School         0.023301\n",
       "High School Graduate     0.243883\n",
       "Some College             0.278058\n",
       "College Graduate         0.317670\n",
       "Advanced Degree          0.137087\n",
       "Midwest                  0.259612\n",
       "South                    0.296505\n",
       "West                     0.216117\n",
       "Northeast                0.227767\n",
       "Experience              13.760583\n",
       "dtype: float64"
      ]
     },
     "execution_count": 42,
     "metadata": {},
     "output_type": "execute_result"
    }
   ],
   "source": [
    "#Omit exponential and categorical variables out of this\n",
    "X_subset = df.loc[:, ~df.columns.str.contains('[2-4]|ind|occ')]\n",
    "X_subset = X_subset.set_axis([\"Wage\",\"Log Wage\",\"Sex\",\"Some High School\",\"High School Graduate\",\"Some College\",\"College Graduate\", \"Advanced Degree\",\"Midwest\",\"South\",\"West\",\"Northeast\",\"Experience\"], axis=1)\n",
    "\n",
    "print(\"--\"*10,\"Sample Means\",\"--\"*10)\n",
    "X_subset.mean()\n"
   ]
  },
  {
   "cell_type": "code",
   "execution_count": 43,
   "metadata": {},
   "outputs": [
    {
     "name": "stdout",
     "output_type": "stream",
     "text": [
      "Observation in Sample: 5150\n",
      "Number of raw regressors: 18\n"
     ]
    }
   ],
   "source": [
    "y = df['lwage']\n",
    "#Drop wage variables.\n",
    "x = df.loc[:, ~df.columns.str.contains('wage')]\n",
    "\n",
    "#Find # variables\n",
    "rawreg = x.shape[1]\n",
    "\n",
    "#obs\n",
    "n = x.shape[0]\n",
    "\n",
    "print(f\"\"\"Observation in Sample: {n}\n",
    "Number of raw regressors: {rawreg}\"\"\")\n",
    "      \n"
   ]
  },
  {
   "cell_type": "markdown",
   "metadata": {},
   "source": [
    "## Prediction\n",
    "\n",
    "Now let's create two models that attempts to predict wages $Y$ with our available variables $X$. Our models will be: \n",
    "### 1. Simple Model: First let's start with our simple model, this will contain only the  covariates in the dataset.\n",
    "\n",
    "### 2. Flexible Model: This will expand on our simple model but add exponential terms and interactions between covariates.\n",
    "\n",
    "Below we can do both models at the same time:"
   ]
  },
  {
   "cell_type": "markdown",
   "metadata": {},
   "source": [
    "First we can specify our models:\n",
    "(Grab vector of covariates, make all categorical variables into dummies, and make two models. We can use patsy to do this easily (https://www.statsmodels.org/dev/example_formulas.html))"
   ]
  },
  {
   "cell_type": "code",
   "execution_count": 44,
   "metadata": {},
   "outputs": [],
   "source": [
    "\n",
    "f = 'lwage ~ sex + exp1 + shs + hsg+ scl + clg + mw + so + we + C(occ2) + C(ind2)'\n",
    "y_simple, X_simple = patsy.dmatrices(f, df, return_type='matrix')"
   ]
  },
  {
   "cell_type": "code",
   "execution_count": 45,
   "metadata": {},
   "outputs": [],
   "source": [
    "\n",
    "f_flex = 'lwage ~ sex + shs+hsg+scl+clg+C(occ2)+C(ind2)+mw+so+we + (exp1+exp2+exp3+exp4)*(shs+hsg+scl+clg+mw+so+we)'\n",
    "y_flex, X_flexible = patsy.dmatrices(f_flex, df, return_type='matrix')"
   ]
  },
  {
   "cell_type": "code",
   "execution_count": 46,
   "metadata": {},
   "outputs": [
    {
     "name": "stdout",
     "output_type": "stream",
     "text": [
      "The Simple Model has 51 regressors\n",
      "The Flexible Model has 82 regressors\n",
      "      \n"
     ]
    }
   ],
   "source": [
    "print(f\"\"\"The Simple Model has {X_simple.shape[1]} regressors\n",
    "The Flexible Model has {X_flexible.shape[1] } regressors\n",
    "      \"\"\")"
   ]
  },
  {
   "cell_type": "markdown",
   "metadata": {},
   "source": [
    "Next, using sklearn we can create a pipeline that we can apply over any model we test, our pipeline does two things:\n",
    "1. __StandardScaler__: Standardizes covariates $X$ by taking $\\frac{X_p - \\bar{X}_p}{\\sigma}$ over each covariate in our model.\n",
    "2. __LinearRegression__: Function that will fit & transform our data using OLS."
   ]
  },
  {
   "cell_type": "code",
   "execution_count": 48,
   "metadata": {},
   "outputs": [],
   "source": [
    "#Methods to put in pipeline\n",
    "scaler = StandardScaler()\n",
    "reg = LinearRegression()\n",
    "\n",
    "#Pipeline\n",
    "pipe = make_pipeline(scaler, reg)"
   ]
  },
  {
   "cell_type": "markdown",
   "metadata": {},
   "source": [
    "## Spliting, Fitting, and Assessing your Data\n",
    "\n",
    "Below attemps to two different training methods, test-train split and K-fold cross validation:\n",
    "\n",
    "__K-Fold__ essentially takes all observations $N$, divides the data into $\\frac{N}{W} = K $ sets of data, where $W$ is an integer chosen by the researcher. It then begins $K$ iterations of training & testing.\n",
    "\n",
    "Imagine we have $K = \\{k_1, k_2, k_3\\}$ sets of data. We will first omit $k_1$ and save it as our $N_{testing}$ and takes $K - \\{k_1\\}$ as $N_{training}$, so: \n",
    "\n",
    "$N_{testing}$ = \\{$k_1$\\}\n",
    "\n",
    "$N_{training}$ = \\{$k_2$, $k_2$\\}\n",
    "\n",
    "After fitting our model, we assess our model with $N_{testing} = \\{k_1\\}$. Next we place $k_2$ into test testing set and move $k_1$ into the training set. We finish with $k_3$ in the testing set. In the end we will end up with 3 unique assessment measuresments, one where each ser $k$ is put into the testing set.\n",
    "\n",
    "\n",
    "__Test Train Split__ is a simpler method, where we select some proportion of our sample $N$ into testing and training and fit & assess our model.\n",
    "\n",
    "\n",
    "The code below does both models using $R^2$ & $MSE$ for both simple & flexible models. It also tries different folds $K$, from 2 folds to 50 folds. It also tried different propotions of our sample in testing set, from $\\frac{1}{2} = .5$ to $\\frac{1}{50} = .02 $\n",
    "\n",
    "\n"
   ]
  },
  {
   "cell_type": "code",
   "execution_count": 50,
   "metadata": {},
   "outputs": [],
   "source": [
    "test_assessment = pd.DataFrame({\n",
    "    'r2_simple_cv': 0.,\n",
    "    'r2_flexible_cv': 0.,\n",
    "    'r2_flexible_split': 0.,\n",
    "    'r2_simple_split': 0.,\n",
    "    'mse_simple_cv': 0.,\n",
    "    'mse_flexible_cv': 0.,\n",
    "    'mse_flexible_split': 0.,\n",
    "    'mse_simple_split': 0.,\n",
    "    'counter': 1/np.arange(2,51),\n",
    "    'kfolds': np.arange(2,51)\n",
    "})\n",
    "\n",
    "my_dfs = {\"simple\": X_simple, \"flexible\": X_flexible}\n",
    "my_assessment = {\"neg_mean_squared_error\": \"mse\", \"r2\": \"r2\"}\n",
    "\n",
    "\n",
    "for cv_num in range(2,51):\n",
    "    for df_name, df in my_dfs.items():   \n",
    "        for assessment_method, assessment_name in my_assessment.items():\n",
    "            \n",
    "                \n",
    "            #KFold Method\n",
    "            add = cross_val_score(pipe, df, y, scoring=assessment_method, \n",
    "                                cv=KFold(n_splits=cv_num,shuffle=True, random_state=2)).mean()\n",
    "            name_of_col = assessment_name + \"_\" + df_name + \"_cv\"\n",
    "            test_assessment.at[cv_num-2, name_of_col] = abs(add)\n",
    "            \n",
    "            #Train Test Split Method\n",
    "            if assessment_method == \"neg_mean_squared_error\":\n",
    "                func = mean_squared_error\n",
    "            else:\n",
    "                func = r2_score\n",
    "            \n",
    "            ts = 1/cv_num\n",
    "            X_train, X_test, y_train, y_test = train_test_split(df, y, \n",
    "                                                                test_size=ts, random_state=2)\n",
    "            X_train = scaler.fit_transform(X_train)\n",
    "            X_test = scaler.transform(X_test)\n",
    "            p = reg.fit(X_train, y_train)\n",
    "            y_predict = p.predict(X_test)\n",
    "            add = func(y_test, y_predict)\n",
    "            name_of_col = assessment_name + \"_\" + df_name + \"_split\"\n",
    "            test_assessment.at[cv_num-2, name_of_col] = abs(add)\n",
    "\n",
    "test_assessment = test_assessment.round(3)"
   ]
  },
  {
   "cell_type": "code",
   "execution_count": 51,
   "metadata": {},
   "outputs": [
    {
     "data": {
      "image/png": "[encoded data removed]",
      "text/plain": [
       "<Figure size 720x432 with 2 Axes>"
      ]
     },
     "metadata": {
      "needs_background": "light"
     },
     "output_type": "display_data"
    }
   ],
   "source": [
    "fig, axes = plt.subplots(nrows=1, ncols=2, figsize=(10,6))\n",
    "\n",
    "axes[0].plot(test_assessment['counter'], test_assessment['r2_simple_cv'], label = \"KFold Method\")\n",
    "axes[0].plot(test_assessment['counter'], test_assessment['r2_simple_split'], label = \"Test Train Method\")\n",
    "axes[1].plot(test_assessment['counter'], test_assessment['r2_flexible_cv'])\n",
    "axes[1].plot(test_assessment['counter'], test_assessment['r2_flexible_split'])\n",
    "fig.suptitle('R2')\n",
    "axes[0].set_title('Simple')\n",
    "axes[1].set_title('Flexible')\n",
    "axes[0].set_ylabel('r2', fontsize=12)\n",
    "fig.legend(loc = (0.25, -0.005), ncol=2)\n",
    "fig.text(0.5, 0.04, '% in Test Set', ha='center', fontsize = 12);"
   ]
  },
  {
   "cell_type": "code",
   "execution_count": 54,
   "metadata": {},
   "outputs": [
    {
     "data": {
      "text/html": [
       "<div>\n",
       "<style scoped>\n",
       "    .dataframe tbody tr th:only-of-type {\n",
       "        vertical-align: middle;\n",
       "    }\n",
       "\n",
       "    .dataframe tbody tr th {\n",
       "        vertical-align: top;\n",
       "    }\n",
       "\n",
       "    .dataframe thead th {\n",
       "        text-align: right;\n",
       "    }\n",
       "</style>\n",
       "<table border=\"1\" class=\"dataframe\">\n",
       "  <thead>\n",
       "    <tr style=\"text-align: right;\">\n",
       "      <th></th>\n",
       "      <th>Model</th>\n",
       "      <th>Average</th>\n",
       "      <th>Max</th>\n",
       "      <th>K-Fold / % in Test</th>\n",
       "    </tr>\n",
       "  </thead>\n",
       "  <tbody>\n",
       "    <tr>\n",
       "      <th>0</th>\n",
       "      <td>Simple + K-Fold</td>\n",
       "      <td>0.293</td>\n",
       "      <td>0.295</td>\n",
       "      <td>22.00</td>\n",
       "    </tr>\n",
       "    <tr>\n",
       "      <th>1</th>\n",
       "      <td>Simple + Split</td>\n",
       "      <td>0.347</td>\n",
       "      <td>0.407</td>\n",
       "      <td>0.02</td>\n",
       "    </tr>\n",
       "    <tr>\n",
       "      <th>2</th>\n",
       "      <td>Flexible + K-Fold</td>\n",
       "      <td>0.291</td>\n",
       "      <td>0.294</td>\n",
       "      <td>11.00</td>\n",
       "    </tr>\n",
       "    <tr>\n",
       "      <th>3</th>\n",
       "      <td>Flexible + Split</td>\n",
       "      <td>0.344</td>\n",
       "      <td>0.394</td>\n",
       "      <td>0.02</td>\n",
       "    </tr>\n",
       "  </tbody>\n",
       "</table>\n",
       "</div>"
      ],
      "text/plain": [
       "               Model  Average    Max  K-Fold / % in Test\n",
       "0    Simple + K-Fold    0.293  0.295               22.00\n",
       "1     Simple + Split    0.347  0.407                0.02\n",
       "2  Flexible + K-Fold    0.291  0.294               11.00\n",
       "3   Flexible + Split    0.344  0.394                0.02"
      ]
     },
     "execution_count": 54,
     "metadata": {},
     "output_type": "execute_result"
    }
   ],
   "source": [
    "r2 = pd.DataFrame()\n",
    "r2['Model'] = ['Simple + K-Fold', 'Simple + Split', 'Flexible + K-Fold', 'Flexible + Split']\n",
    "r2['Average'] = [test_assessment['r2_simple_cv'].mean(), \n",
    "                  test_assessment['r2_simple_split'].mean(),\n",
    "                  test_assessment['r2_flexible_cv'].mean(),\n",
    "                  test_assessment['r2_flexible_split'].mean()]\n",
    "r2['Max'] = [test_assessment['r2_simple_cv'].max(), \n",
    "                  test_assessment['r2_simple_split'].max(),\n",
    "                  test_assessment['r2_flexible_cv'].max(),\n",
    "                  test_assessment['r2_flexible_split'].max()]\n",
    "\n",
    "r2['K-Fold / % in Test'] = [test_assessment.at[test_assessment['r2_simple_cv'].idxmax(), 'kfolds'],\n",
    "                             test_assessment.at[test_assessment['r2_simple_split'].idxmax(), 'counter'],\n",
    "                             test_assessment.at[test_assessment['r2_flexible_cv'].idxmax(), 'kfolds'],\n",
    "                             test_assessment.at[test_assessment['r2_simple_split'].idxmax(), 'counter']]\n",
    "                             \n",
    "\n",
    "r2.round(3)"
   ]
  },
  {
   "cell_type": "code",
   "execution_count": 53,
   "metadata": {},
   "outputs": [
    {
     "data": {
      "image/png": "[encoded data removed]",
      "text/plain": [
       "<Figure size 720x432 with 2 Axes>"
      ]
     },
     "metadata": {
      "needs_background": "light"
     },
     "output_type": "display_data"
    }
   ],
   "source": [
    "fig, axes = plt.subplots(nrows=1, ncols=2, figsize=(10,6))\n",
    "\n",
    "axes[0].plot(test_assessment['counter'], test_assessment['mse_simple_cv'], label = \"KFold Method\")\n",
    "axes[0].plot(test_assessment['counter'], test_assessment['mse_simple_split'], label = \"Test Train Method\")\n",
    "axes[1].plot(test_assessment['counter'], test_assessment['mse_flexible_cv'])\n",
    "axes[1].plot(test_assessment['counter'], test_assessment['mse_flexible_split'])\n",
    "fig.suptitle('MSE')\n",
    "axes[0].set_ylabel('r2', fontsize=12)\n",
    "axes[0].set_title('Simple')\n",
    "axes[1].set_title('Flexible')\n",
    "fig.legend(loc = (0.25, -0.005), ncol=2)\n",
    "fig.text(0.5, 0.04, '% in Test Set', ha='center', fontsize = 12);\n"
   ]
  },
  {
   "cell_type": "code",
   "execution_count": null,
   "metadata": {},
   "outputs": [
    {
     "data": {
      "text/html": [
       "<div>\n",
       "<style scoped>\n",
       "    .dataframe tbody tr th:only-of-type {\n",
       "        vertical-align: middle;\n",
       "    }\n",
       "\n",
       "    .dataframe tbody tr th {\n",
       "        vertical-align: top;\n",
       "    }\n",
       "\n",
       "    .dataframe thead th {\n",
       "        text-align: right;\n",
       "    }\n",
       "</style>\n",
       "<table border=\"1\" class=\"dataframe\">\n",
       "  <thead>\n",
       "    <tr style=\"text-align: right;\">\n",
       "      <th></th>\n",
       "      <th>Model</th>\n",
       "      <th>Average</th>\n",
       "      <th>Min</th>\n",
       "      <th>K-Fold / % in Test</th>\n",
       "    </tr>\n",
       "  </thead>\n",
       "  <tbody>\n",
       "    <tr>\n",
       "      <th>0</th>\n",
       "      <td>Simple + K-Fold</td>\n",
       "      <td>0.229</td>\n",
       "      <td>0.229</td>\n",
       "      <td>5.000</td>\n",
       "    </tr>\n",
       "    <tr>\n",
       "      <th>1</th>\n",
       "      <td>Simple + Split</td>\n",
       "      <td>1.894</td>\n",
       "      <td>1.736</td>\n",
       "      <td>0.027</td>\n",
       "    </tr>\n",
       "    <tr>\n",
       "      <th>2</th>\n",
       "      <td>Flexible + K-Fold</td>\n",
       "      <td>0.229</td>\n",
       "      <td>0.229</td>\n",
       "      <td>7.000</td>\n",
       "    </tr>\n",
       "    <tr>\n",
       "      <th>3</th>\n",
       "      <td>Flexible + Split</td>\n",
       "      <td>2.081</td>\n",
       "      <td>1.614</td>\n",
       "      <td>0.027</td>\n",
       "    </tr>\n",
       "  </tbody>\n",
       "</table>\n",
       "</div>"
      ],
      "text/plain": [
       "               Model  Average    Min  K-Fold / % in Test\n",
       "0    Simple + K-Fold    0.229  0.229               5.000\n",
       "1     Simple + Split    1.894  1.736               0.027\n",
       "2  Flexible + K-Fold    0.229  0.229               7.000\n",
       "3   Flexible + Split    2.081  1.614               0.027"
      ]
     },
     "execution_count": 16,
     "metadata": {},
     "output_type": "execute_result"
    }
   ],
   "source": [
    "mse = pd.DataFrame()\n",
    "mse['Model'] = ['Simple + K-Fold', 'Simple + Split', 'Flexible + K-Fold', 'Flexible + Split']\n",
    "mse['Average'] = [test_assessment['mse_simple_cv'].mean(), \n",
    "                  test_assessment['mse_simple_split'].mean(),\n",
    "                  test_assessment['mse_flexible_cv'].mean(),\n",
    "                  test_assessment['mse_flexible_split'].mean()]\n",
    "mse['Min'] = [test_assessment['mse_simple_cv'].min(), \n",
    "                  test_assessment['mse_simple_split'].min(),\n",
    "                  test_assessment['mse_flexible_cv'].min(),\n",
    "                  test_assessment['mse_flexible_split'].min()]\n",
    "\n",
    "mse['K-Fold / % in Test'] = [test_assessment.at[test_assessment['mse_simple_cv'].idxmin(), 'kfolds'],\n",
    "                             test_assessment.at[test_assessment['mse_simple_split'].idxmin(), 'counter'],\n",
    "                             test_assessment.at[test_assessment['mse_flexible_cv'].idxmin(), 'kfolds'],\n",
    "                             test_assessment.at[test_assessment['mse_simple_split'].idxmin(), 'counter']]\n",
    "                             \n",
    "\n",
    "mse.round(3)"
   ]
  },
  {
   "cell_type": "markdown",
   "metadata": {},
   "source": [
    "Lastly let's show everything (with adjusted values) in a final table:"
   ]
  },
  {
   "cell_type": "code",
   "execution_count": 55,
   "metadata": {},
   "outputs": [
    {
     "data": {
      "text/html": [
       "<div>\n",
       "<style scoped>\n",
       "    .dataframe tbody tr th:only-of-type {\n",
       "        vertical-align: middle;\n",
       "    }\n",
       "\n",
       "    .dataframe tbody tr th {\n",
       "        vertical-align: top;\n",
       "    }\n",
       "\n",
       "    .dataframe thead th {\n",
       "        text-align: right;\n",
       "    }\n",
       "</style>\n",
       "<table border=\"1\" class=\"dataframe\">\n",
       "  <thead>\n",
       "    <tr style=\"text-align: right;\">\n",
       "      <th></th>\n",
       "      <th>Model</th>\n",
       "      <th>R2</th>\n",
       "      <th>R2 Adjusted</th>\n",
       "      <th>MSE</th>\n",
       "      <th>MSE Adjusted</th>\n",
       "    </tr>\n",
       "  </thead>\n",
       "  <tbody>\n",
       "    <tr>\n",
       "      <th>0</th>\n",
       "      <td>Basic reg</td>\n",
       "      <td>0.407</td>\n",
       "      <td>0.401</td>\n",
       "      <td>0.192</td>\n",
       "      <td>0.194</td>\n",
       "    </tr>\n",
       "    <tr>\n",
       "      <th>1</th>\n",
       "      <td>Flexible reg</td>\n",
       "      <td>0.394</td>\n",
       "      <td>0.384</td>\n",
       "      <td>0.195</td>\n",
       "      <td>0.198</td>\n",
       "    </tr>\n",
       "  </tbody>\n",
       "</table>\n",
       "</div>"
      ],
      "text/plain": [
       "          Model     R2  R2 Adjusted    MSE  MSE Adjusted\n",
       "0     Basic reg  0.407        0.401  0.192         0.194\n",
       "1  Flexible reg  0.394        0.384  0.195         0.198"
      ]
     },
     "execution_count": 55,
     "metadata": {},
     "output_type": "execute_result"
    }
   ],
   "source": [
    "p_simp = X_simple.shape[1]\n",
    "p_flex = X_flexible.shape[1]\n",
    "n = X_simple.shape[0]\n",
    "\n",
    "def adj_r2(var, p):\n",
    "    result = 1 - ((1 -var)*(n)/(n-p))\n",
    "    return(result)\n",
    "\n",
    "def adj_mse(var, p):\n",
    "    result = ((var)*(n))/(n-p)\n",
    "    return(result)\n",
    "    \n",
    "\n",
    "\n",
    "\n",
    "test_assessment['r2_adj_simple'] = np.vectorize(adj_r2)(test_assessment['r2_simple_split'], p_simp)\n",
    "test_assessment['r2_adj_flexible'] = np.vectorize(adj_r2)(test_assessment['r2_flexible_split'], p_flex)\n",
    "test_assessment['mse_adj_simple'] = np.vectorize(adj_mse)(test_assessment['mse_simple_split'], p_simp)\n",
    "test_assessment['mse_adj_flexible'] = np.vectorize(adj_mse)(test_assessment['mse_flexible_split'], p_flex)\n",
    "\n",
    "\n",
    "final_table = pd.DataFrame()\n",
    "final_table['Model'] = ['Basic reg', 'Flexible reg']\n",
    "final_table['R2'] = [test_assessment['r2_simple_split'].max(), \n",
    "                     test_assessment['r2_flexible_split'].max()]\n",
    "\n",
    "final_table['R2 Adjusted'] = [test_assessment['r2_adj_simple'].max(), \n",
    "                              test_assessment['r2_adj_flexible'].max()]\n",
    "\n",
    "final_table['MSE'] = [test_assessment['mse_simple_split'].min(), \n",
    "                     test_assessment['mse_flexible_split'].min()]\n",
    "\n",
    "final_table['MSE Adjusted'] = [test_assessment['mse_adj_simple'].min(), \n",
    "                              test_assessment['mse_adj_flexible'].min()]\n",
    "\n",
    "final_table.round(3)"
   ]
  },
  {
   "cell_type": "markdown",
   "metadata": {},
   "source": [
    "In sum what we find is that in this context both K-fold & Sample Splitting methods do similar when taking averages, but just the sample split seems to work well.\n",
    "\n",
    "Overall we see that flexible model fails in this context as it barely increases predictive value but inflates the variable count. This book serves as a simple example of sample splitting however more analysis could be done."
   ]
  }
 ],
 "metadata": {
  "interpreter": {
   "hash": "3472633a0c3319afea4dee893cd914becdcc9b59b8cbd89385fb4e7aafbcbb11"
  },
  "kernelspec": {
   "display_name": "Python 3.9.7 64-bit ('base': conda)",
   "language": "python",
   "name": "python3"
  },
  "language_info": {
   "codemirror_mode": {
    "name": "ipython",
    "version": 3
   },
   "file_extension": ".py",
   "mimetype": "text/x-python",
   "name": "python",
   "nbconvert_exporter": "python",
   "pygments_lexer": "ipython3",
   "version": "3.9.7"
  },
  "orig_nbformat": 4
 },
 "nbformat": 4,
 "nbformat_minor": 2
}
