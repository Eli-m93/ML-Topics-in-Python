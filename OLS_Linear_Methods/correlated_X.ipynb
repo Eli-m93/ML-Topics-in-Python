{
 "cells": [
  {
   "cell_type": "code",
   "execution_count": 74,
   "metadata": {},
   "outputs": [],
   "source": [
    "import numpy as np\n",
    "import pandas as pd\n",
    "from scipy.stats import ortho_group\n",
    "import statsmodels.api as sm\n",
    "import matplotlib.pyplot as plt\n",
    "import warnings\n",
    "warnings.filterwarnings(\"ignore\", category=RuntimeWarning) \n",
    "np.set_printoptions(suppress=True)\n"
   ]
  },
  {
   "cell_type": "code",
   "execution_count": 75,
   "metadata": {},
   "outputs": [],
   "source": [
    "def hand_calc(x,y):\n",
    "    xtx_1 = np.linalg.inv(x.T@x)\n",
    "    beta1 = np.linalg.inv(x.T@x)@(x.T@y)\n",
    "    y_hat = beta1.T@x.T\n",
    "    RSS = np.sum((y-y_hat)**2)\n",
    "    RSE = np.sum(np.sqrt(RSS))\n",
    "    TSS = np.sum((y-np.mean(y))**2)\n",
    "    R2 = ((TSS-RSS)/TSS)\n",
    "    SE = np.sqrt(RSS/(x.shape[0] - x.shape[1]) * xtx_1)\n",
    "\n",
    "    return xtx_1, beta1, y_hat, RSS, RSE, R2, SE"
   ]
  },
  {
   "attachments": {},
   "cell_type": "markdown",
   "metadata": {},
   "source": [
    "# Issues in OLS to consider and how they manifest\n",
    "\n",
    "I initially wrote this to discuss the [assumptions of OLS](https://gregorygundersen.com/blog/2021/08/26/ols-estimator-sampling-distribution/#standard-ols-assumptions) (linearity, homoscedasticity, no OVB, no multicollinearity, normality of Y), however I took a long-winded turn into convincing myself for the Nth time that collinearity harms our precision and to understand why.\n"
   ]
  },
  {
   "attachments": {},
   "cell_type": "markdown",
   "metadata": {},
   "source": [
    "## Collinearity \n",
    "\n",
    "Below I create a regression of $Y = \\beta_{0} + \\beta_{1}x_{1} + \\beta_{2}x_{2} + \\epsilon$ where my $x_{1}$ and $x_{2}$ are highly correlated. \n",
    "\n",
    "Due to the correlation in my covariates we deal with a few issues, practically speaking it will be difficult to understand if $\\beta_{1}$ or $\\beta_{2}$ is responsible for a unit change in $Y$, meaning we're not confident in our estimated values, this is reflected in larger standard error values. \n",
    "\n",
    "On the other hand, our estimates are unbiased! We are still explaining the true relationship between $Y$ and our $X's$, we're just unsure who is responsible for the effect.\n",
    "\n",
    "\n",
    "### What does this mean for us?\n",
    "- If you want to predict, we're fine.\n",
    "\n",
    "- If you want to infer, we're in trouble. \n",
    "\n",
    "- We have true estimates, so we can predict well, but we can't truly determine if our estimators provide a causal impact or not.\n",
    "\n",
    "### What can we do about collinearity? \n",
    "We don't have many options. We can use a number of tests to check if (multi)collinearity exists between our covariates. Typically a __VIF__ test works well, values greater than 10 to 15 might be a cause for concern. \n",
    "\n",
    "A few options in mind:\n",
    "1. Drop if collinearity is very bad.\n",
    "2. If collinearity is not very bad, if prediction is the name of the game, or if the collinear variable carries explanatory power for y then do not drop. \n",
    "3. Combine collinear variables into new variable.\n",
    "\n",
    "\n",
    "Lets look at an example of two collinear variables:"
   ]
  },
  {
   "cell_type": "code",
   "execution_count": 76,
   "metadata": {},
   "outputs": [
    {
     "name": "stdout",
     "output_type": "stream",
     "text": [
      "sanity check, x1 & x2 should have high correlation: 0.92\n"
     ]
    }
   ],
   "source": [
    "np.random.seed(123)\n",
    "rows = 100\n",
    "x = ortho_group.rvs(dim=(rows))\n",
    "x = np.append(np.full((rows,1), 1), x, axis=1)[:,:3]\n",
    "x_6 = x.copy()\n",
    "x_6[:,2] = x_6[:,1] + np.random.rand(rows)*0.15\n",
    "y_6 = np.dot(x_6, [1,1,1]) + np.random.standard_normal(rows)*0.05\n",
    "print('sanity check, x1 & x2 should have high correlation: {:.2f}'.format(np.corrcoef(x_6[:,1:3], rowvar=False)[0,1]))\n"
   ]
  },
  {
   "attachments": {},
   "cell_type": "markdown",
   "metadata": {},
   "source": [
    "First we run our regression with both covariates. Keep the standard error and beta coefficient of $x_{1}$ in mind.\n",
    "\n",
    "*VIF is low because: https://stats.stackexchange.com/questions/445189/why-high-correlation-coefficient-doesnt-guarantee-high-vif#:~:text=As%20demonstrated%2C%20it's%20definitely%20possible,correlations%2C%20but%20have%20high%20VIF's.\n",
    "\n",
    "My take: Have two covariates be mildly/strongly correlated might not be enough to pass the VIF \"sniff test\" (VIF >10 or 15). This is because an R^2 of a single variate regression will need to be extremely correlated to increase the VIF to 10 (think of an R^2 of 0.9). Having a multivariate regression for x1 on all other covariates, even with mild correlation will probably do the trick however.\n"
   ]
  },
  {
   "cell_type": "code",
   "execution_count": 77,
   "metadata": {},
   "outputs": [
    {
     "name": "stdout",
     "output_type": "stream",
     "text": [
      "my coef: [0.99264727 0.84977216 1.09630869]\n",
      "my se: [0.00940184 0.11547962 0.10912604]\n",
      "my r2: 0.9519165234217969\n",
      "VIF Scores:  [4.372849128949262, 6.5932322352189585, 6.593232235218954]\n"
     ]
    },
    {
     "data": {
      "text/html": [
       "<table class=\"simpletable\">\n",
       "<caption>OLS Regression Results</caption>\n",
       "<tr>\n",
       "  <th>Dep. Variable:</th>            <td>y</td>        <th>  R-squared:         </th> <td>   0.952</td>\n",
       "</tr>\n",
       "<tr>\n",
       "  <th>Model:</th>                   <td>OLS</td>       <th>  Adj. R-squared:    </th> <td>   0.951</td>\n",
       "</tr>\n",
       "<tr>\n",
       "  <th>Method:</th>             <td>Least Squares</td>  <th>  F-statistic:       </th> <td>   960.2</td>\n",
       "</tr>\n",
       "<tr>\n",
       "  <th>Date:</th>             <td>Fri, 17 Mar 2023</td> <th>  Prob (F-statistic):</th> <td>1.19e-64</td>\n",
       "</tr>\n",
       "<tr>\n",
       "  <th>Time:</th>                 <td>14:49:19</td>     <th>  Log-Likelihood:    </th> <td>  169.83</td>\n",
       "</tr>\n",
       "<tr>\n",
       "  <th>No. Observations:</th>      <td>   100</td>      <th>  AIC:               </th> <td>  -333.7</td>\n",
       "</tr>\n",
       "<tr>\n",
       "  <th>Df Residuals:</th>          <td>    97</td>      <th>  BIC:               </th> <td>  -325.8</td>\n",
       "</tr>\n",
       "<tr>\n",
       "  <th>Df Model:</th>              <td>     2</td>      <th>                     </th>     <td> </td>   \n",
       "</tr>\n",
       "<tr>\n",
       "  <th>Covariance Type:</th>      <td>nonrobust</td>    <th>                     </th>     <td> </td>   \n",
       "</tr>\n",
       "</table>\n",
       "<table class=\"simpletable\">\n",
       "<tr>\n",
       "    <td></td>       <th>coef</th>     <th>std err</th>      <th>t</th>      <th>P>|t|</th>  <th>[0.025</th>    <th>0.975]</th>  \n",
       "</tr>\n",
       "<tr>\n",
       "  <th>const</th> <td>    0.9926</td> <td>    0.009</td> <td>  105.580</td> <td> 0.000</td> <td>    0.974</td> <td>    1.011</td>\n",
       "</tr>\n",
       "<tr>\n",
       "  <th>x1</th>    <td>    0.8498</td> <td>    0.115</td> <td>    7.359</td> <td> 0.000</td> <td>    0.621</td> <td>    1.079</td>\n",
       "</tr>\n",
       "<tr>\n",
       "  <th>x2</th>    <td>    1.0963</td> <td>    0.109</td> <td>   10.046</td> <td> 0.000</td> <td>    0.880</td> <td>    1.313</td>\n",
       "</tr>\n",
       "</table>\n",
       "<table class=\"simpletable\">\n",
       "<tr>\n",
       "  <th>Omnibus:</th>       <td> 0.480</td> <th>  Durbin-Watson:     </th> <td>   1.806</td>\n",
       "</tr>\n",
       "<tr>\n",
       "  <th>Prob(Omnibus):</th> <td> 0.787</td> <th>  Jarque-Bera (JB):  </th> <td>   0.634</td>\n",
       "</tr>\n",
       "<tr>\n",
       "  <th>Skew:</th>          <td> 0.101</td> <th>  Prob(JB):          </th> <td>   0.728</td>\n",
       "</tr>\n",
       "<tr>\n",
       "  <th>Kurtosis:</th>      <td> 2.667</td> <th>  Cond. No.          </th> <td>    34.8</td>\n",
       "</tr>\n",
       "</table><br/><br/>Notes:<br/>[1] Standard Errors assume that the covariance matrix of the errors is correctly specified."
      ],
      "text/plain": [
       "<class 'statsmodels.iolib.summary.Summary'>\n",
       "\"\"\"\n",
       "                            OLS Regression Results                            \n",
       "==============================================================================\n",
       "Dep. Variable:                      y   R-squared:                       0.952\n",
       "Model:                            OLS   Adj. R-squared:                  0.951\n",
       "Method:                 Least Squares   F-statistic:                     960.2\n",
       "Date:                Fri, 17 Mar 2023   Prob (F-statistic):           1.19e-64\n",
       "Time:                        14:49:19   Log-Likelihood:                 169.83\n",
       "No. Observations:                 100   AIC:                            -333.7\n",
       "Df Residuals:                      97   BIC:                            -325.8\n",
       "Df Model:                           2                                         \n",
       "Covariance Type:            nonrobust                                         \n",
       "==============================================================================\n",
       "                 coef    std err          t      P>|t|      [0.025      0.975]\n",
       "------------------------------------------------------------------------------\n",
       "const          0.9926      0.009    105.580      0.000       0.974       1.011\n",
       "x1             0.8498      0.115      7.359      0.000       0.621       1.079\n",
       "x2             1.0963      0.109     10.046      0.000       0.880       1.313\n",
       "==============================================================================\n",
       "Omnibus:                        0.480   Durbin-Watson:                   1.806\n",
       "Prob(Omnibus):                  0.787   Jarque-Bera (JB):                0.634\n",
       "Skew:                           0.101   Prob(JB):                        0.728\n",
       "Kurtosis:                       2.667   Cond. No.                         34.8\n",
       "==============================================================================\n",
       "\n",
       "Notes:\n",
       "[1] Standard Errors assume that the covariance matrix of the errors is correctly specified.\n",
       "\"\"\""
      ]
     },
     "execution_count": 77,
     "metadata": {},
     "output_type": "execute_result"
    }
   ],
   "source": [
    "p6_xtx_1, p6_beta1, p6_y_hat, p6_RSS, p6_RSE, p6_R2, p6_SE = hand_calc(x_6,y_6)\n",
    "print('my coef:', p6_beta1)\n",
    "print('my se:', np.diag(p6_SE))\n",
    "print('my r2:', p6_R2)\n",
    "print('VIF Scores: ',[variance_inflation_factor(x_6, i) for i in range(3)])\n",
    "model = sm.OLS(y_6,x_6).fit()\n",
    "model.summary()"
   ]
  },
  {
   "attachments": {},
   "cell_type": "markdown",
   "metadata": {},
   "source": [
    "Now let's drop $x_{2}$ (the collinear variable), now we see that $\\hat{\\beta_{1}}$ has a larger coefficient size and smaller standard error!\n",
    "\n",
    "This is because we're now dealing with omitted variable bias instead of collinearity. This is because I've constructed my $x_1$ and $x_2$ to provide explanatory power for our $y$, even though the two covariates have a strong correlation.\n",
    "\n",
    "We've essentially traded precision for bias, a losing deal for both a causal and prediction task!"
   ]
  },
  {
   "cell_type": "code",
   "execution_count": 78,
   "metadata": {},
   "outputs": [
    {
     "name": "stdout",
     "output_type": "stream",
     "text": [
      "my coef: [1.07559348 1.9183152 ]\n",
      "my se: [0.0063914 0.063914 ]\n",
      "my r2: 0.9018862348885971\n",
      "VIF Scores:  [4.372849128949262, 6.5932322352189585, 6.593232235218954]\n",
      "\n",
      "After omitting x2, my beta_1 went from 0.8498 to 1.9183, a difference of -1.0685.\n",
      "\n",
      "The standard error of my beta_1 also went from 0.1155 to 0.0639, a difference of 0.0516.\n",
      "\n"
     ]
    }
   ],
   "source": [
    "r_x_6 = x_6[:,0:2]\n",
    "r_p6_xtx_1, r_p6_beta1, r_p6_y_hat, r_p6_RSS, r_p6_RSE, r_p6_R2, r_p6_SE = hand_calc(r_x_6,y_6)\n",
    "model = sm.OLS(y_6,r_x_6).fit()\n",
    "print('my coef:', r_p6_beta1)\n",
    "print('my se:', np.diag(r_p6_SE))\n",
    "print('my r2:', r_p6_R2)\n",
    "print('VIF Scores: ',[variance_inflation_factor(x_6, i) for i in range(3)])\n",
    "\n",
    "\n",
    "print('''\n",
    "After omitting x2, my beta_1 went from {:.4f} to {:.4f}, a difference of {:.4f}.\n",
    "\n",
    "The standard error of my beta_1 also went from {:.4f} to {:.4f}, a difference of {:.4f}.\n",
    "'''.format(p6_beta1[1], r_p6_beta1[1], p6_beta1[1]-r_p6_beta1[1],\n",
    "    np.diag(p6_SE)[1], np.diag(r_p6_SE)[1],  np.diag(p6_SE)[1] -  np.diag(r_p6_SE)[1]))\n",
    "\n"
   ]
  },
  {
   "attachments": {},
   "cell_type": "markdown",
   "metadata": {},
   "source": [
    "__Why the coefficient changed__: Dropping a collinear variable $x_2$ will increase the coefficient of $x_1$ if $x_1$ was correlated with $x_2$ in the original model. This is because, in the original model, some of the effect of $x_1$ on $Y$ was being captured by $x_2$ as well. When $x_2$ is removed from the model, the effect of $x_1$ on $Y$ is no longer shared with $x_2$ and the coefficient of $x_1$ will increase to compensate for this.\n",
    "\n",
    "Put another way, $Y$ is a linear combination of our betas, so $\\beta{0}, \\beta{1}, \\&  \\beta{2}$ would add together and all play a part to explain $Y$. Now that we dropped $\\beta{2}$, we rely on $\\beta{1}$ to pick up the explanatory power. Because these two covariates were correlated its very easy to do so! Here is our example:"
   ]
  },
  {
   "cell_type": "code",
   "execution_count": 79,
   "metadata": {},
   "outputs": [
    {
     "name": "stdout",
     "output_type": "stream",
     "text": [
      "(X'X) with x2:\n",
      "[[100.      0.24    7.8  ]\n",
      " [  0.24    1.      0.993]\n",
      " [  7.8     0.993   1.728]]\n",
      "\n",
      "Without x2:\n",
      "[[100.     0.24]\n",
      " [  0.24   1.  ]]\n",
      "\n",
      "(X'X)^-1 with x2:\n",
      "[[ 0.04372849  0.43202476 -0.44571667]\n",
      " [ 0.43202476  6.59703872 -5.74188313]\n",
      " [-0.44571667 -5.74188313  5.8910836 ]]\n",
      "\n",
      "Without x2:\n",
      "[[ 0.01000577 -0.00240347]\n",
      " [-0.00240347  1.00057733]]\n",
      "\n",
      " Final (x'x)^(-1) * x'y:\n",
      "WITH x2: [0.99264727 0.84977216 1.09630869]\n",
      "WITHOUT x2: [1.07559348 1.9183152 ]\n",
      "\n"
     ]
    }
   ],
   "source": [
    "\n",
    "print(\"(X'X) with x2:\\n{}\\n\\nWithout x2:\\n{}\\n\".format(\n",
    "    (x_6.T@x_6).round(3),\n",
    "    (r_x_6.T@r_x_6).round(3))\n",
    ")\n",
    "\n",
    "print(\"(X'X)^-1 with x2:\\n{}\\n\\nWithout x2:\\n{}\\n\".format(\n",
    "    p6_xtx_1.round(10),\n",
    "    r_p6_xtx_1.round(10))\n",
    ")\n",
    "\n",
    "print(''' Final (x'x)^(-1) * x'y:\n",
    "WITH x2: {}\n",
    "WITHOUT x2: {}\n",
    "'''\n",
    ".format(p6_beta1,\n",
    "        r_p6_beta1)\n",
    ")"
   ]
  },
  {
   "attachments": {},
   "cell_type": "markdown",
   "metadata": {},
   "source": [
    "Why Standard Error Changed: Because of the strong correlation between $x_{1}$ and $x_{2}$, the covariance matrix will contain large values on the off diagonals, vastly altering how our precision matrix $(X'X)^{-1}$ is calculated, as the strong covariances will play a part on the diagonal values. Now that we've omitted $x_{2}$ entirely we no longer worry about the large off diagonals, lowering our new $(X'X)^{-1}$ .\n",
    "\n",
    "An alternative way to see this is to look at the standard error equation for $\\beta_{1}$ $$\\text{SE}(\\boldsymbol{\\beta_{1}}) = \\frac{\\sigma}{\\sqrt{1-R^{2}_{{x-x_{1}}}\\cdot(N-1)\\cdot(\\sigma_{x_{1}})}}$$ here we see that the Standard Error is in part determined by $R^{2}_{x-x_{1}} which is the R-squared of regressing $x_{1}$ on all other x's... Considering our x's are correlated by design it makes mathematical sense our standard error were large when both covariates were included, as our $R^{2}_{x-x_{1}} was calculating by regression $x_{1}$ on $x_{2}$. Without $x_{2}$ any longer we're just regressing $x_{1}$ on some constant term (the mean)!\n",
    "\n",
    "\n",
    " For instance:"
   ]
  },
  {
   "cell_type": "code",
   "execution_count": 80,
   "metadata": {},
   "outputs": [
    {
     "name": "stdout",
     "output_type": "stream",
     "text": [
      " \n",
      "WITH x2: RSS avg(y-y_hat**2):0.2\n",
      "WITHOUT x2: RSS avg(y-y_hat**2): 0.4\n",
      " \n",
      "WITH x2 value of x1 diagonal in (x'x)^-1 = 6.597038722430903\n",
      "WITHOUT x2 value of x1 diagonal in (x'x)^-1 = 1.0005773324943064\n",
      "\n",
      " Taken together we calculate SE of x1 for each by doing sqrt(RSS/(n-k-1) * (x'x)^-1).\n",
      "WITH x2: sqrt(0.20\\97 * 6.597038722430903) = 0.12\n",
      "WITHOUT x2: sqrt(0.40\\98 * 1.0005773324943064) = 0.06\n",
      "\n"
     ]
    }
   ],
   "source": [
    "print(''' \n",
    "WITH x2: RSS avg(y-y_hat**2):{}\n",
    "WITHOUT x2: RSS avg(y-y_hat**2): {}'''\n",
    "      .format(p6_RSS.round(2), r_p6_RSS.round(2)))\n",
    "\n",
    "print(''' \n",
    "WITH x2 value of x1 diagonal in (x'x)^-1 = {}\n",
    "WITHOUT x2 value of x1 diagonal in (x'x)^-1 = {}\n",
    "'''\n",
    "    .format(np.diag(p6_xtx_1)[1],\n",
    "            np.diag(r_p6_xtx_1)[1]))\n",
    "\n",
    "print(''' Taken together we calculate SE of x1 for each by doing sqrt(RSS/(n-k-1) * (x'x)^-1).\n",
    "WITH x2: sqrt({:.2f}\\{} * {}) = {:.2f}\n",
    "WITHOUT x2: sqrt({:.2f}\\{} * {}) = {:.2f}\n",
    "'''.format(p6_RSS, rows-2-1,np.diag(p6_xtx_1)[1], np.diag(p6_SE)[1],\n",
    "        r_p6_RSS, rows-1-1,np.diag(r_p6_xtx_1)[1], np.diag(r_p6_SE)[1]))\n"
   ]
  },
  {
   "attachments": {},
   "cell_type": "markdown",
   "metadata": {},
   "source": [
    "# SCRATCH WORK (USELESS)"
   ]
  },
  {
   "cell_type": "code",
   "execution_count": 81,
   "metadata": {},
   "outputs": [],
   "source": [
    "def hand_calc(x,y):\n",
    "    xtx_1 = np.linalg.inv(x.T@x)\n",
    "    beta1 = np.linalg.inv(x.T@x)@(x.T@y)\n",
    "    y_hat = beta1.T@x.T\n",
    "    RSS = np.sum((y-y_hat)**2)\n",
    "    RSE = np.sum(np.sqrt(RSS))\n",
    "    TSS = np.sum((y-np.mean(y))**2)\n",
    "    R2 = ((TSS-RSS)/TSS)\n",
    "    SE = np.sqrt(RSS/(x.shape[0] - x.shape[1]) * xtx_1)\n",
    "    return xtx_1, beta1, y_hat, RSS, RSE, R2, SE"
   ]
  },
  {
   "attachments": {},
   "cell_type": "markdown",
   "metadata": {},
   "source": [
    "1. Create Example Data\n",
    "\n",
    "x: the x's are orthogonal to each other \\\n",
    "y: has some noise to it\n",
    "\n",
    "\n",
    "Ok so very small correlation, that shouldn't much matter but could _slightly_ alter my correlated coefficients.\n"
   ]
  },
  {
   "cell_type": "code",
   "execution_count": 82,
   "metadata": {},
   "outputs": [
    {
     "name": "stdout",
     "output_type": "stream",
     "text": [
      "sanity check, x1 & x2 should have no/low correlation: 0.00023\n"
     ]
    }
   ],
   "source": [
    "np.random.seed(123)\n",
    "rows = 100\n",
    "x = ortho_group.rvs(dim=(rows))\n",
    "x = np.append(np.full((rows,1), 1), x, axis=1)[:,:3]\n",
    "x1 = x[:, 1].reshape(rows,1)\n",
    "x2 = x[:,2].reshape(rows,1)\n",
    "y = np.dot(x, [1,1,1]) + np.random.standard_normal(rows)*0.05\n",
    "\n",
    "print('sanity check, x1 & x2 should have no/low correlation: {:.5f}'.format(np.corrcoef(x,rowvar=False)[1,2]))\n"
   ]
  },
  {
   "cell_type": "code",
   "execution_count": 83,
   "metadata": {},
   "outputs": [
    {
     "name": "stdout",
     "output_type": "stream",
     "text": [
      "[[0.00499049        nan 0.00153078]\n",
      " [       nan 0.04990271        nan]\n",
      " [0.00153078        nan 0.04989052]]\n",
      "my se: [0.00499049 0.04990271 0.04989052]\n",
      "my r2: 0.8998119064332305\n"
     ]
    },
    {
     "data": {
      "text/html": [
       "<table class=\"simpletable\">\n",
       "<caption>OLS Regression Results</caption>\n",
       "<tr>\n",
       "  <th>Dep. Variable:</th>            <td>y</td>        <th>  R-squared:         </th> <td>   0.900</td>\n",
       "</tr>\n",
       "<tr>\n",
       "  <th>Model:</th>                   <td>OLS</td>       <th>  Adj. R-squared:    </th> <td>   0.898</td>\n",
       "</tr>\n",
       "<tr>\n",
       "  <th>Method:</th>             <td>Least Squares</td>  <th>  F-statistic:       </th> <td>   435.6</td>\n",
       "</tr>\n",
       "<tr>\n",
       "  <th>Date:</th>             <td>Fri, 17 Mar 2023</td> <th>  Prob (F-statistic):</th> <td>3.46e-49</td>\n",
       "</tr>\n",
       "<tr>\n",
       "  <th>Time:</th>                 <td>14:49:19</td>     <th>  Log-Likelihood:    </th> <td>  159.43</td>\n",
       "</tr>\n",
       "<tr>\n",
       "  <th>No. Observations:</th>      <td>   100</td>      <th>  AIC:               </th> <td>  -312.9</td>\n",
       "</tr>\n",
       "<tr>\n",
       "  <th>Df Residuals:</th>          <td>    97</td>      <th>  BIC:               </th> <td>  -305.0</td>\n",
       "</tr>\n",
       "<tr>\n",
       "  <th>Df Model:</th>              <td>     2</td>      <th>                     </th>     <td> </td>   \n",
       "</tr>\n",
       "<tr>\n",
       "  <th>Covariance Type:</th>      <td>nonrobust</td>    <th>                     </th>     <td> </td>   \n",
       "</tr>\n",
       "</table>\n",
       "<table class=\"simpletable\">\n",
       "<tr>\n",
       "    <td></td>       <th>coef</th>     <th>std err</th>      <th>t</th>      <th>P>|t|</th>  <th>[0.025</th>    <th>0.975]</th>  \n",
       "</tr>\n",
       "<tr>\n",
       "  <th>const</th> <td>    1.0004</td> <td>    0.005</td> <td>  200.465</td> <td> 0.000</td> <td>    0.991</td> <td>    1.010</td>\n",
       "</tr>\n",
       "<tr>\n",
       "  <th>x1</th>    <td>    1.0570</td> <td>    0.050</td> <td>   21.180</td> <td> 0.000</td> <td>    0.958</td> <td>    1.156</td>\n",
       "</tr>\n",
       "<tr>\n",
       "  <th>x2</th>    <td>    1.0253</td> <td>    0.050</td> <td>   20.552</td> <td> 0.000</td> <td>    0.926</td> <td>    1.124</td>\n",
       "</tr>\n",
       "</table>\n",
       "<table class=\"simpletable\">\n",
       "<tr>\n",
       "  <th>Omnibus:</th>       <td> 2.328</td> <th>  Durbin-Watson:     </th> <td>   1.785</td>\n",
       "</tr>\n",
       "<tr>\n",
       "  <th>Prob(Omnibus):</th> <td> 0.312</td> <th>  Jarque-Bera (JB):  </th> <td>   1.876</td>\n",
       "</tr>\n",
       "<tr>\n",
       "  <th>Skew:</th>          <td> 0.188</td> <th>  Prob(JB):          </th> <td>   0.391</td>\n",
       "</tr>\n",
       "<tr>\n",
       "  <th>Kurtosis:</th>      <td> 2.444</td> <th>  Cond. No.          </th> <td>    10.0</td>\n",
       "</tr>\n",
       "</table><br/><br/>Notes:<br/>[1] Standard Errors assume that the covariance matrix of the errors is correctly specified."
      ],
      "text/plain": [
       "<class 'statsmodels.iolib.summary.Summary'>\n",
       "\"\"\"\n",
       "                            OLS Regression Results                            \n",
       "==============================================================================\n",
       "Dep. Variable:                      y   R-squared:                       0.900\n",
       "Model:                            OLS   Adj. R-squared:                  0.898\n",
       "Method:                 Least Squares   F-statistic:                     435.6\n",
       "Date:                Fri, 17 Mar 2023   Prob (F-statistic):           3.46e-49\n",
       "Time:                        14:49:19   Log-Likelihood:                 159.43\n",
       "No. Observations:                 100   AIC:                            -312.9\n",
       "Df Residuals:                      97   BIC:                            -305.0\n",
       "Df Model:                           2                                         \n",
       "Covariance Type:            nonrobust                                         \n",
       "==============================================================================\n",
       "                 coef    std err          t      P>|t|      [0.025      0.975]\n",
       "------------------------------------------------------------------------------\n",
       "const          1.0004      0.005    200.465      0.000       0.991       1.010\n",
       "x1             1.0570      0.050     21.180      0.000       0.958       1.156\n",
       "x2             1.0253      0.050     20.552      0.000       0.926       1.124\n",
       "==============================================================================\n",
       "Omnibus:                        2.328   Durbin-Watson:                   1.785\n",
       "Prob(Omnibus):                  0.312   Jarque-Bera (JB):                1.876\n",
       "Skew:                           0.188   Prob(JB):                        0.391\n",
       "Kurtosis:                       2.444   Cond. No.                         10.0\n",
       "==============================================================================\n",
       "\n",
       "Notes:\n",
       "[1] Standard Errors assume that the covariance matrix of the errors is correctly specified.\n",
       "\"\"\""
      ]
     },
     "execution_count": 83,
     "metadata": {},
     "output_type": "execute_result"
    }
   ],
   "source": [
    "xtx_1, beta1, y_hat, RSS, RSE, R2, SE = hand_calc(x,y)\n",
    "print(SE)\n",
    "\n",
    "model = sm.OLS(y,x).fit()\n",
    "\n",
    "print('my se:', np.diag(SE))\n",
    "print('my r2:', R2)\n",
    "model.summary()"
   ]
  },
  {
   "attachments": {},
   "cell_type": "markdown",
   "metadata": {},
   "source": [
    "VIF is 1/(how well we can explain on covariates with the others).\n",
    "\n",
    "Or \n",
    "\n",
    "$\\frac{1}{R^{2}_{X_{j}|X_{-j}}}$\n",
    "\n",
    "Where we calculate the R-squared of a regression of $X_{j}$ on all other covariates $X_{-j}$.\n",
    "\n",
    "A value of 1 means no collinear relationships, where a value greater than 15ish is a cause for concern. \n",
    "\n",
    "Obviously I made these covariates to not vary with each other so the values are 1.\n"
   ]
  },
  {
   "cell_type": "code",
   "execution_count": 84,
   "metadata": {},
   "outputs": [
    {
     "name": "stdout",
     "output_type": "stream",
     "text": [
      "VIF Scores:  [1.0006659700128582, 1.0000000511142828, 1.0000000511142828]\n"
     ]
    }
   ],
   "source": [
    "from statsmodels.stats.outliers_influence import variance_inflation_factor\n",
    "print('VIF Scores: ',[variance_inflation_factor(x, i) for i in range(3)])"
   ]
  },
  {
   "attachments": {},
   "cell_type": "markdown",
   "metadata": {},
   "source": [
    "2. What occurs when I take out an orthogonal, yet significant explanatory variable?\n",
    "\n",
    "What we know:\n",
    "1. x2 DOES explain our Y.\n",
    "2. x1 & x2 are effectively not correlated in any way.\n",
    "\n",
    "\n",
    "What should occur to x1 & why:\n",
    "1. x1 beta coefficient should stay the same, the precision matrix $(x'x)^{-1}$ should be unaffected as $x1$ and $x2$ had little to no relation, therefore, when we take $x2$ out the variance/covariance of this matrix should stay very much the same.\n",
    "2. x1 se should increase as our RSE has increased. x2 provided strong explanatory power we're now missing.\n",
    "2. x1 se should decrease as our number of variables have decreased so n-k-1, where k went from 2 to 1, meaning our denominator is smaller."
   ]
  },
  {
   "cell_type": "code",
   "execution_count": 85,
   "metadata": {},
   "outputs": [
    {
     "name": "stdout",
     "output_type": "stream",
     "text": [
      "my coef: [1.00042103 1.05696313 1.02533166]\n",
      "my se: [0.00499049 0.04990271 0.04989052]\n",
      "my r2: 0.8998119064332305\n"
     ]
    },
    {
     "data": {
      "text/html": [
       "<table class=\"simpletable\">\n",
       "<caption>OLS Regression Results</caption>\n",
       "<tr>\n",
       "  <th>Dep. Variable:</th>            <td>y</td>        <th>  R-squared:         </th> <td>   0.464</td>\n",
       "</tr>\n",
       "<tr>\n",
       "  <th>Model:</th>                   <td>OLS</td>       <th>  Adj. R-squared:    </th> <td>   0.458</td>\n",
       "</tr>\n",
       "<tr>\n",
       "  <th>Method:</th>             <td>Least Squares</td>  <th>  F-statistic:       </th> <td>   84.69</td>\n",
       "</tr>\n",
       "<tr>\n",
       "  <th>Date:</th>             <td>Fri, 17 Mar 2023</td> <th>  Prob (F-statistic):</th> <td>6.51e-15</td>\n",
       "</tr>\n",
       "<tr>\n",
       "  <th>Time:</th>                 <td>14:49:19</td>     <th>  Log-Likelihood:    </th> <td>  75.531</td>\n",
       "</tr>\n",
       "<tr>\n",
       "  <th>No. Observations:</th>      <td>   100</td>      <th>  AIC:               </th> <td>  -147.1</td>\n",
       "</tr>\n",
       "<tr>\n",
       "  <th>Df Residuals:</th>          <td>    98</td>      <th>  BIC:               </th> <td>  -141.9</td>\n",
       "</tr>\n",
       "<tr>\n",
       "  <th>Df Model:</th>              <td>     1</td>      <th>                     </th>     <td> </td>   \n",
       "</tr>\n",
       "<tr>\n",
       "  <th>Covariance Type:</th>      <td>nonrobust</td>    <th>                     </th>     <td> </td>   \n",
       "</tr>\n",
       "</table>\n",
       "<table class=\"simpletable\">\n",
       "<tr>\n",
       "    <td></td>       <th>coef</th>     <th>std err</th>      <th>t</th>      <th>P>|t|</th>  <th>[0.025</th>    <th>0.975]</th>  \n",
       "</tr>\n",
       "<tr>\n",
       "  <th>const</th> <td>    0.9995</td> <td>    0.011</td> <td>   86.999</td> <td> 0.000</td> <td>    0.977</td> <td>    1.022</td>\n",
       "</tr>\n",
       "<tr>\n",
       "  <th>x1</th>    <td>    1.0572</td> <td>    0.115</td> <td>    9.202</td> <td> 0.000</td> <td>    0.829</td> <td>    1.285</td>\n",
       "</tr>\n",
       "</table>\n",
       "<table class=\"simpletable\">\n",
       "<tr>\n",
       "  <th>Omnibus:</th>       <td> 4.361</td> <th>  Durbin-Watson:     </th> <td>   1.986</td>\n",
       "</tr>\n",
       "<tr>\n",
       "  <th>Prob(Omnibus):</th> <td> 0.113</td> <th>  Jarque-Bera (JB):  </th> <td>   5.475</td>\n",
       "</tr>\n",
       "<tr>\n",
       "  <th>Skew:</th>          <td> 0.078</td> <th>  Prob(JB):          </th> <td>  0.0647</td>\n",
       "</tr>\n",
       "<tr>\n",
       "  <th>Kurtosis:</th>      <td> 4.136</td> <th>  Cond. No.          </th> <td>    10.0</td>\n",
       "</tr>\n",
       "</table><br/><br/>Notes:<br/>[1] Standard Errors assume that the covariance matrix of the errors is correctly specified."
      ],
      "text/plain": [
       "<class 'statsmodels.iolib.summary.Summary'>\n",
       "\"\"\"\n",
       "                            OLS Regression Results                            \n",
       "==============================================================================\n",
       "Dep. Variable:                      y   R-squared:                       0.464\n",
       "Model:                            OLS   Adj. R-squared:                  0.458\n",
       "Method:                 Least Squares   F-statistic:                     84.69\n",
       "Date:                Fri, 17 Mar 2023   Prob (F-statistic):           6.51e-15\n",
       "Time:                        14:49:19   Log-Likelihood:                 75.531\n",
       "No. Observations:                 100   AIC:                            -147.1\n",
       "Df Residuals:                      98   BIC:                            -141.9\n",
       "Df Model:                           1                                         \n",
       "Covariance Type:            nonrobust                                         \n",
       "==============================================================================\n",
       "                 coef    std err          t      P>|t|      [0.025      0.975]\n",
       "------------------------------------------------------------------------------\n",
       "const          0.9995      0.011     86.999      0.000       0.977       1.022\n",
       "x1             1.0572      0.115      9.202      0.000       0.829       1.285\n",
       "==============================================================================\n",
       "Omnibus:                        4.361   Durbin-Watson:                   1.986\n",
       "Prob(Omnibus):                  0.113   Jarque-Bera (JB):                5.475\n",
       "Skew:                           0.078   Prob(JB):                       0.0647\n",
       "Kurtosis:                       4.136   Cond. No.                         10.0\n",
       "==============================================================================\n",
       "\n",
       "Notes:\n",
       "[1] Standard Errors assume that the covariance matrix of the errors is correctly specified.\n",
       "\"\"\""
      ]
     },
     "execution_count": 85,
     "metadata": {},
     "output_type": "execute_result"
    }
   ],
   "source": [
    "r_x = x[:,0:2]\n",
    "r_xtx_1, r_beta1, r_y_hat, r_RSS, r_RSE, r_R2, r_SE = hand_calc(r_x,y)\n",
    "model = sm.OLS(y,r_x).fit()\n",
    "print('my coef:', beta1)\n",
    "print('my se:', np.diag(SE))\n",
    "print('my r2:', R2)\n",
    "model.summary()"
   ]
  },
  {
   "cell_type": "code",
   "execution_count": 86,
   "metadata": {},
   "outputs": [
    {
     "name": "stdout",
     "output_type": "stream",
     "text": [
      "After omitting x2, my x1 went from 1.0570 to 1.0572, a difference of -0.0002.\n",
      "\n",
      "\n",
      "The reason my x1 change after omitting x2 is due to the fact that I calculate my beta by (X'X)^(-1)X'Y, \n",
      "because x1 and x2 share a slight covariance with each other (-.0002), this changes my (X'X)^(-1) matrix slightly, as such:\n",
      "\n",
      "original (X'X)^-1:\n",
      "[[ 0.01000666 -0.00240368  0.00094152]\n",
      " [-0.00240368  1.00057738 -0.00022616]\n",
      " [ 0.00094152 -0.00022616  1.00008859]]\n",
      "\n",
      "reduced form:\n",
      "[[ 0.01000577 -0.00240347]\n",
      " [-0.00240347  1.00057733]]\n",
      "\n",
      "As you can see, the x'y remains unchanged:\n",
      "(x'y):\n",
      "[100.1995   1.2973   0.9312]\n",
      "\n",
      "reduced form (x'y):\n",
      "[100.1995   1.2973]\n"
     ]
    }
   ],
   "source": [
    "print('''After omitting x2, my x1 went from {:.4f} to {:.4f}, a difference of {:.4f}.\n",
    "'''.format(beta1[1], r_beta1[1], beta1[1]-r_beta1[1]))\n",
    "                                                                          \n",
    "\n",
    "print('''\n",
    "The reason my x1 change after omitting x2 is due to the fact that I calculate my beta by (X'X)^(-1)X'Y, \n",
    "because x1 and x2 share a slight covariance with each other (-.0002), this changes my (X'X)^(-1) matrix slightly, as such:\n",
    "''')\n",
    "\n",
    "print(\"original (X'X)^-1:\\n{}\\n\\nreduced form:\\n{}\\n\".format(\n",
    "    xtx_1.round(10),\n",
    "    r_xtx_1.round(10))\n",
    ")\n",
    "\n",
    "print(\"As you can see, the x'y remains unchanged:\")\n",
    "print(\"(x'y):\\n{}\\n\\nreduced form (x'y):\\n{}\".format(\n",
    "    (x.T@y).round(4),\n",
    "    (r_x.T@y).round(4))\n",
    ")"
   ]
  },
  {
   "cell_type": "code",
   "execution_count": 87,
   "metadata": {},
   "outputs": [
    {
     "name": "stdout",
     "output_type": "stream",
     "text": [
      "\n",
      "The standard error of x1 went from 0.05 to 0.115.\n",
      "\n",
      "The standard error changed, why?\n",
      "Well standard error is computed by sqrt(RSS/(n-k-1) * (x'x)^-1).\n",
      "Where RSS = variance of our error, the squared difference of the true y and our estimated y.\n",
      "So sqrt(RSS\n",
      "-k-1) is the standard error of our variance.\n",
      "\n",
      "Lets just call sqrt(RSS\n",
      "-k-1) as sigma...\n",
      "\n",
      "\n",
      "sigma has changed for a few reasons:\n",
      "1. SE grows: RSS = (y-y_hat)^2... Because we our y_hat is noisier without x2 we will expect RSS to become larger as the distance between any given y and y_hat has grown\n",
      "2. SE grows:  k was 2 (x1, x2), now it is 1 (x1 only). This will reduce sigma as our numerator has become larger ever so slightly \n",
      "\n",
      "\n",
      "We then apply that to (x'x)^-1:\n",
      "3. SE grows: because x1 and x2 had an slight correlation we will see an ever so slight change in our values here.\n",
      " \n",
      "-- POINT 1 --\n",
      "WITH x2: RSS avg(y-y_hat**2):0.24\n",
      "WITHOUT x2: RSS avg(y-y_hat**2): 1.29\n",
      " \n",
      "-- POINT 2 --\n",
      "WITH x2 RSS\\(n-2-1) = 0.24\\97 = 0.002\n",
      "WITHOUT x2 RSS\\(n-1-1) = 1.29\\98 = 0.013\n",
      "\n",
      " \n",
      "-- POINT 3 --\n",
      "WITH x2 value of x1 diagonal in (x'x)^-1 = 1.0005773836380991\n",
      "WITHOUT x2 value of x1 diagonal in (x'x)^-1 = 1.0005773324943064\n",
      "\n",
      " Taken together we calculate SE of x1 for each by doing sqrt(RSS/(n-k-1) * (x'x)^-1).\n",
      "WITH x2: sqrt(0.24\\97 * 1.0005773836380991) = 0.05\n",
      "WITHOUT x2: sqrt(1.29\\98 * 1.0005773324943064) = 0.11\n",
      "\n"
     ]
    }
   ],
   "source": [
    "print(f'''\n",
    "The standard error of x1 went from {np.diag(SE)[1].round(3)} to {np.diag(r_SE)[1].round(3)}.\n",
    "\n",
    "The standard error changed, why?\n",
    "Well standard error is computed by sqrt(RSS/(n-k-1) * (x'x)^-1).\n",
    "Where RSS = variance of our error, the squared difference of the true y and our estimated y.\n",
    "So sqrt(RSS\\n-k-1) is the standard error of our variance.\n",
    "\n",
    "Lets just call sqrt(RSS\\n-k-1) as sigma...\n",
    "\n",
    "\n",
    "sigma has changed for a few reasons:\n",
    "1. SE grows: RSS = (y-y_hat)^2... Because we our y_hat is noisier without x2 we will expect RSS to become larger as the distance between any given y and y_hat has grown\n",
    "2. SE grows:  k was 2 (x1, x2), now it is 1 (x1 only). This will reduce sigma as our numerator has become larger ever so slightly \n",
    "\n",
    "\n",
    "We then apply that to (x'x)^-1:\n",
    "3. SE grows: because x1 and x2 had an slight correlation we will see an ever so slight change in our values here.''')\n",
    "\n",
    "\n",
    "print(''' \n",
    "-- POINT 1 --\n",
    "WITH x2: RSS avg(y-y_hat**2):{}\n",
    "WITHOUT x2: RSS avg(y-y_hat**2): {}'''\n",
    "      .format(RSS.round(2), r_RSS.round(2)))\n",
    "\n",
    "print(''' \n",
    "-- POINT 2 --\n",
    "WITH x2 RSS\\(n-2-1) = {:.2f}\\{} = {:.3f}\n",
    "WITHOUT x2 RSS\\(n-1-1) = {:.2f}\\{} = {:.3f}\n",
    "'''\n",
    "    .format(RSS, rows-2-1, RSS/(rows-2-1),\n",
    "            r_RSS, rows-1-1, r_RSS/(rows-1-1)))\n",
    "\n",
    "print(''' \n",
    "-- POINT 3 --\n",
    "WITH x2 value of x1 diagonal in (x'x)^-1 = {}\n",
    "WITHOUT x2 value of x1 diagonal in (x'x)^-1 = {}\n",
    "'''\n",
    "    .format(np.diag(xtx_1)[1],\n",
    "            np.diag(r_xtx_1)[1]))\n",
    "\n",
    "print(''' Taken together we calculate SE of x1 for each by doing sqrt(RSS/(n-k-1) * (x'x)^-1).\n",
    "WITH x2: sqrt({:.2f}\\{} * {}) = {:.2f}\n",
    "WITHOUT x2: sqrt({:.2f}\\{} * {}) = {:.2f}\n",
    "'''.format(RSS, rows-2-1, np.diag(xtx_1)[1], np.diag(SE)[1],\n",
    "        r_RSS, rows-1-1, np.diag(r_xtx_1)[1], np.diag(r_SE)[1]))\n",
    "\n",
    "\n"
   ]
  },
  {
   "attachments": {},
   "cell_type": "markdown",
   "metadata": {},
   "source": [
    "$$SE(\\hat{\\beta_j}) = \\sqrt{\\frac{\\hat{\\sigma}^2}{\\sum_{i=1}^{n}(x_{ij} - \\bar{x_j})^2(1-R_j^2)}}$$\n",
    "\n",
    "$$\\sqrt{\\hat{\\sigma}^{2}(X'X)^{-1}}$$\n"
   ]
  },
  {
   "cell_type": "code",
   "execution_count": 88,
   "metadata": {},
   "outputs": [],
   "source": [
    "x_minus_xbar = np.var(x_6[:,1])*rows\n",
    "r2 = sm.OLS(x_6[:,1],x_6[:,[0,2]]).fit().rsquared\n",
    "\n",
    "\n",
    "xtx_1, beta1, y_hat, RSS, RSE, R2, SE = hand_calc(x_6[:,[0,2]], x_6[:,1])\n",
    "\n",
    "xtx = x_6[:,[0,2]].T@x_6[:,[0,2]]\n",
    "\n",
    "TSS = np.sum((x_6[:,1]-np.mean(x_6[:,1]))**2)\n",
    "RSS = np.sum((x_6[:,1]-y_hat)**2)\n",
    "R2 = ((TSS-RSS)/TSS)"
   ]
  },
  {
   "cell_type": "code",
   "execution_count": 89,
   "metadata": {},
   "outputs": [
    {
     "data": {
      "text/plain": [
       "0.11430720562798564"
      ]
     },
     "execution_count": 89,
     "metadata": {},
     "output_type": "execute_result"
    }
   ],
   "source": [
    "se_b1 = np.sqrt(p6_RSS/((TSS)*(1-((TSS-RSS)/TSS))*(rows-1)))\n",
    "se_b1"
   ]
  },
  {
   "cell_type": "code",
   "execution_count": 90,
   "metadata": {},
   "outputs": [
    {
     "data": {
      "text/plain": [
       "array([[0.0063914,       nan],\n",
       "       [      nan, 0.063914 ]])"
      ]
     },
     "execution_count": 90,
     "metadata": {},
     "output_type": "execute_result"
    }
   ],
   "source": [
    "r_p6_SE"
   ]
  },
  {
   "cell_type": "code",
   "execution_count": 91,
   "metadata": {},
   "outputs": [],
   "source": [
    "x = np.random.rand(100)"
   ]
  },
  {
   "cell_type": "code",
   "execution_count": 92,
   "metadata": {},
   "outputs": [
    {
     "name": "stdout",
     "output_type": "stream",
     "text": [
      "The variance of x is 1890.54\n"
     ]
    },
    {
     "data": {
      "image/png": "[encoded data removed]",
      "text/plain": [
       "<Figure size 640x480 with 1 Axes>"
      ]
     },
     "metadata": {},
     "output_type": "display_data"
    }
   ],
   "source": [
    "# Define the parameters for the regression equation\n",
    "beta_0 = 5    # intercept\n",
    "beta_1 = 2    # slope\n",
    "n = 100       # sample size\n",
    "\n",
    "# Generate the explanatory variable x with varying variance\n",
    "variance = 2000\n",
    "x = np.random.normal(loc=0, scale=np.sqrt(variance), size=n)\n",
    "\n",
    "# Calculate the variance of x\n",
    "x_var = np.var(x)\n",
    "\n",
    "# Generate the response variable y using the regression equation\n",
    "y = beta_0 + beta_1 * x + np.random.normal(loc=0, scale=1, size=n)\n",
    "\n",
    "# Fit the regression model using numpy's polyfit function\n",
    "slope, intercept = np.polyfit(x, y, 1)\n",
    "\n",
    "# Plot the data and the fitted regression line\n",
    "fig, ax = plt.subplots()\n",
    "ax.scatter(x, y, alpha=0.8)\n",
    "ax.plot(x, slope * x + intercept, color='red')\n",
    "ax.set_xlabel('x')\n",
    "ax.set_ylabel('y')\n",
    "ax.set_title('Simple Linear Regression')\n",
    "\n",
    "# Print the variance of x\n",
    "print(f\"The variance of x is {x_var:.2f}\")\n",
    "\n",
    "plt.show()"
   ]
  }
 ],
 "metadata": {
  "kernelspec": {
   "display_name": "tensor-env",
   "language": "python",
   "name": "python3"
  },
  "language_info": {
   "codemirror_mode": {
    "name": "ipython",
    "version": 3
   },
   "file_extension": ".py",
   "mimetype": "text/x-python",
   "name": "python",
   "nbconvert_exporter": "python",
   "pygments_lexer": "ipython3",
   "version": "3.9.13"
  },
  "orig_nbformat": 4,
  "vscode": {
   "interpreter": {
    "hash": "d7ded92a62eb8d00bc6880547b1023ec86ee52a34e12c88218e87fc5e1f5ea50"
   }
  }
 },
 "nbformat": 4,
 "nbformat_minor": 2
}
