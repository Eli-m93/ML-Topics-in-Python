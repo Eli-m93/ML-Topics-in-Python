{
 "cells": [
  {
   "cell_type": "markdown",
   "metadata": {},
   "source": [
    "# Primer to Bagging & Boosting\n",
    "\n",
    "The data and scaffolding of code is taken from Harvard's CS109A Course (Introduction to Data Science), all writing is my own. This work hopes to introduce ensemble methods with trees to a new learner. \n",
    "\n",
    "This notebook is as follows:\n",
    "\n",
    "1. Motivation: Why a Decision Tree "
   ]
  }
 ],
 "metadata": {
  "language_info": {
   "name": "python"
  },
  "orig_nbformat": 4
 },
 "nbformat": 4,
 "nbformat_minor": 2
}
