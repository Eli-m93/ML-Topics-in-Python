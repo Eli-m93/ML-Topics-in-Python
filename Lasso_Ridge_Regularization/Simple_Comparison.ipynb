{
 "cells": [
  {
   "cell_type": "markdown",
   "metadata": {},
   "source": [
    "# Comparing Lasso, Ridge, and OLS\n",
    "\n",
    "To motivate the use of regularization techniques we can run through a quick example of when typical OLS will provide poor predictive (and causal) modeling:\n",
    "\n",
    "## Example: Teacher Retention \n",
    "\n",
    "One topic I've had personal experience with is understanding a causal interpretation of motivators to keep teachers in schools, this analysis was ran over a 10 year panel in Texas public middle schools. \n",
    "\n",
    "One issue on the predictive side could \"What predictors mattered most for teacher attrition?\" Using public data you can access teacher data from over 500 schools in Texas, that is 500 observations of teacher tenure, leave rate, and satisfaction. However Texas educational data is rich in features, over 700 to be exact. There are variables on things like class size, average age, race/demographics of staff/students/teachers, professional development courses, proportion of funds spent on certain classes, textbook age, etc. This means:\n",
    "$$\n",
    "n = 300; \\\\\n",
    "\n",
    "p = 700; \\\\\n",
    "\n",
    "p > n\n",
    "$$\n",
    "\n",
    "Using OLS in this example leaves us with 3 outcomes. First, we cut down our variables to an acceptable level to run OLS and hope for successful out of sample prediction, however guessing the importance of variables here is a large task and would potentially leave your clients with a less than acceptable deliverable. Second, you could saturate your model, as in use 300 variables and perfectly explain your model. Lastly, you could attempt __dimension reduction__. \n",
    "\n",
    "\n",
    "__Dimension reduction__ in the naive sense would have us building some model $f(x)_{p=1}$, starting with the best model with only $X_1$, i.e. one variable, fitting our model, recording accuracy, then picking two variables, fitting, recording accuracy, and picking the better of the two models tested. You would continue in pairwise competition between models, picking the most accurate (based on your criterion, maybe MSE of the validation set?). In our case it would take $2^{700}$ attempts to find the best model, rather challenging! \n",
    "\n",
    "Instead we could practice dimension reduction with LASSO or Ridge regressions (or Neural Net, not covered here), which in the most general sense, is OLS with an added constraint that forces us to pick variables $X_p$ that maximizes predictive power without increasing variance (perfectly explaining our training data) to a harmful level. "
   ]
  },
  {
   "cell_type": "markdown",
   "metadata": {},
   "source": [
    "## Coding Example: Comparing 3 models with Boston Housing Data\n",
    "Below compares all three models with boston housing data"
   ]
  },
  {
   "cell_type": "markdown",
   "metadata": {},
   "source": [
    "### Set-Up"
   ]
  },
  {
   "cell_type": "code",
   "execution_count": 1,
   "metadata": {},
   "outputs": [],
   "source": [
    "#Load packages\n",
    "import pandas as pd\n",
    "import numpy as np\n",
    "import matplotlib.pyplot as plt\n",
    "from sklearn import preprocessing\n",
    "from sklearn.linear_model import Lasso, Ridge, RidgeCV, LassoCV, LinearRegression\n",
    "from sklearn.metrics import mean_squared_error\n",
    "from sklearn.model_selection import train_test_split\n",
    "from sklearn.preprocessing import PolynomialFeatures\n",
    "from sklearn.preprocessing import StandardScaler\n"
   ]
  },
  {
   "cell_type": "code",
   "execution_count": 2,
   "metadata": {},
   "outputs": [],
   "source": [
    "#Load Data\n",
    "df = pd.read_csv(\"./Boston.csv\")\n",
    "df = df.iloc[:,1:]"
   ]
  },
  {
   "cell_type": "markdown",
   "metadata": {},
   "source": [
    "### Features & Response \n",
    "Split data into Features ($X$) & Response ($Y$), where our response is ```medv```, the median value of owner-occupied homes (in $1,000s).\n",
    "\n",
    "Our features range from crime per capita (```crim```) to index values measuring accessibility to highways (```rad```).\n"
   ]
  },
  {
   "cell_type": "code",
   "execution_count": 3,
   "metadata": {},
   "outputs": [],
   "source": [
    "Y = df['medv']\n",
    "X = df.drop(['medv', 'chas', 'zn'], axis=1)\n",
    "#Normalize X with l2 norm\n",
    "X_norm = preprocessing.normalize(X)\n"
   ]
  },
  {
   "cell_type": "markdown",
   "metadata": {},
   "source": [
    "### Split Data\n",
    "First lets start with the simplest approach, test-train-split to measure out of sample accuracy. Later on we can automate this process to find the best LASSO & Ridge models to run."
   ]
  },
  {
   "cell_type": "code",
   "execution_count": 4,
   "metadata": {},
   "outputs": [],
   "source": [
    "X_train, X_val, y_train, y_val = train_test_split(X_norm, Y, random_state=42, test_size= 0.3)"
   ]
  },
  {
   "cell_type": "markdown",
   "metadata": {},
   "source": [
    "### Linear Regression\n",
    "To start lets fit our linear model"
   ]
  },
  {
   "cell_type": "code",
   "execution_count": 5,
   "metadata": {},
   "outputs": [
    {
     "name": "stdout",
     "output_type": "stream",
     "text": [
      "Linear Regression MSE of validation set is: 21.063\n"
     ]
    }
   ],
   "source": [
    "ols = LinearRegression()\n",
    "\n",
    "#fit the model\n",
    "ols.fit(X_train, y_train)\n",
    "\n",
    "#predict over validation set \n",
    "y_predicted = ols.predict(X_val)\n",
    "\n",
    "#calculate MSE over validation set \n",
    "mse = mean_squared_error(y_predicted, y_val)\n",
    "\n",
    "print(f\"Linear Regression MSE of validation set is: {round(mse, 3)}\")"
   ]
  },
  {
   "cell_type": "markdown",
   "metadata": {},
   "source": [
    "Let's grab the coefficients sizes across our features:"
   ]
  },
  {
   "cell_type": "code",
   "execution_count": 6,
   "metadata": {},
   "outputs": [],
   "source": [
    "#zip will merge feature name and coef value by row index, dict will create a discrete tuple to use\n",
    "ols_coef = dict(zip(X.columns, np.transpose(ols.coef_)))\n",
    "\n",
    "#another method to grab coef is via data frame:\n",
    "ols_coef = pd.DataFrame({'X': X.columns,\n",
    "                        'val': ols.coef_\n",
    "                        })\n",
    "\n",
    "\n"
   ]
  },
  {
   "cell_type": "markdown",
   "metadata": {},
   "source": [
    "### LASSO\n",
    "Below is how to set up LASSO in python, this is very similar to our OLS approach\n",
    "\n",
    "We'll use $\\lambda$ value of 0.008."
   ]
  },
  {
   "cell_type": "code",
   "execution_count": 7,
   "metadata": {},
   "outputs": [
    {
     "name": "stdout",
     "output_type": "stream",
     "text": [
      "LASSO MSE of validation set is: 33.841\n"
     ]
    }
   ],
   "source": [
    "lasso = Lasso(alpha=.008)\n",
    "lasso.fit(X_train, y_train)\n",
    "y_predicted = lasso.predict(X_val)\n",
    "mse_lasso = mean_squared_error(y_predicted, y_val)\n",
    "print(f\"LASSO MSE of validation set is: {round(mse_lasso, 3)}\")"
   ]
  },
  {
   "cell_type": "code",
   "execution_count": 8,
   "metadata": {},
   "outputs": [
    {
     "data": {
      "text/html": [
       "<div>\n",
       "<style scoped>\n",
       "    .dataframe tbody tr th:only-of-type {\n",
       "        vertical-align: middle;\n",
       "    }\n",
       "\n",
       "    .dataframe tbody tr th {\n",
       "        vertical-align: top;\n",
       "    }\n",
       "\n",
       "    .dataframe thead th {\n",
       "        text-align: right;\n",
       "    }\n",
       "</style>\n",
       "<table border=\"1\" class=\"dataframe\">\n",
       "  <thead>\n",
       "    <tr style=\"text-align: right;\">\n",
       "      <th></th>\n",
       "      <th>X</th>\n",
       "      <th>val</th>\n",
       "    </tr>\n",
       "  </thead>\n",
       "  <tbody>\n",
       "    <tr>\n",
       "      <th>0</th>\n",
       "      <td>crim</td>\n",
       "      <td>-22.716100</td>\n",
       "    </tr>\n",
       "    <tr>\n",
       "      <th>1</th>\n",
       "      <td>indus</td>\n",
       "      <td>-0.000000</td>\n",
       "    </tr>\n",
       "    <tr>\n",
       "      <th>2</th>\n",
       "      <td>nox</td>\n",
       "      <td>0.000000</td>\n",
       "    </tr>\n",
       "    <tr>\n",
       "      <th>3</th>\n",
       "      <td>rm</td>\n",
       "      <td>0.000000</td>\n",
       "    </tr>\n",
       "    <tr>\n",
       "      <th>4</th>\n",
       "      <td>age</td>\n",
       "      <td>13.803085</td>\n",
       "    </tr>\n",
       "    <tr>\n",
       "      <th>5</th>\n",
       "      <td>dis</td>\n",
       "      <td>-0.000000</td>\n",
       "    </tr>\n",
       "    <tr>\n",
       "      <th>6</th>\n",
       "      <td>rad</td>\n",
       "      <td>-0.000000</td>\n",
       "    </tr>\n",
       "    <tr>\n",
       "      <th>7</th>\n",
       "      <td>tax</td>\n",
       "      <td>-17.414167</td>\n",
       "    </tr>\n",
       "    <tr>\n",
       "      <th>8</th>\n",
       "      <td>ptratio</td>\n",
       "      <td>-0.000000</td>\n",
       "    </tr>\n",
       "    <tr>\n",
       "      <th>9</th>\n",
       "      <td>black</td>\n",
       "      <td>2.655779</td>\n",
       "    </tr>\n",
       "    <tr>\n",
       "      <th>10</th>\n",
       "      <td>lstat</td>\n",
       "      <td>-437.081066</td>\n",
       "    </tr>\n",
       "  </tbody>\n",
       "</table>\n",
       "</div>"
      ],
      "text/plain": [
       "          X         val\n",
       "0      crim  -22.716100\n",
       "1     indus   -0.000000\n",
       "2       nox    0.000000\n",
       "3        rm    0.000000\n",
       "4       age   13.803085\n",
       "5       dis   -0.000000\n",
       "6       rad   -0.000000\n",
       "7       tax  -17.414167\n",
       "8   ptratio   -0.000000\n",
       "9     black    2.655779\n",
       "10    lstat -437.081066"
      ]
     },
     "execution_count": 8,
     "metadata": {},
     "output_type": "execute_result"
    }
   ],
   "source": [
    "#Grab dataset of values much like OLS\n",
    "lasso_coef = pd.DataFrame({'X': X.columns,\n",
    "                        'val': lasso.coef_\n",
    "                        })\n",
    "\n",
    "lasso_coef"
   ]
  },
  {
   "cell_type": "markdown",
   "metadata": {},
   "source": [
    "### Ridge Regression\n",
    "Lastly, lets do the same as OLS & LASSO and grab the MSE for Ridge to compare\n",
    "\n",
    "We'll use $\\lambda$ value of 0.008."
   ]
  },
  {
   "cell_type": "code",
   "execution_count": 9,
   "metadata": {},
   "outputs": [
    {
     "name": "stdout",
     "output_type": "stream",
     "text": [
      "Ridge MSE of validation set is: 30.047\n"
     ]
    }
   ],
   "source": [
    "ridge = Ridge(alpha=.008)\n",
    "ridge.fit(X_train, y_train)\n",
    "y_predicted = ridge.predict(X_val)\n",
    "mse_ridge = mean_squared_error(y_predicted, y_val)\n",
    "print(f\"Ridge MSE of validation set is: {round(mse_ridge, 3)}\")"
   ]
  },
  {
   "cell_type": "code",
   "execution_count": 10,
   "metadata": {},
   "outputs": [],
   "source": [
    "#Grab dataset\n",
    "ridge_coef = pd.DataFrame({'X': X.columns,\n",
    "                        'val': ridge.coef_\n",
    "                        })"
   ]
  },
  {
   "cell_type": "markdown",
   "metadata": {},
   "source": [
    "### Fast Method: Looping\n",
    "As you probably noticed we just did the same thing three times, but used different models. Instead of writing so many lines of code we can achieve the same output in a simple loop:"
   ]
  },
  {
   "cell_type": "code",
   "execution_count": 11,
   "metadata": {},
   "outputs": [],
   "source": [
    "#Create dict to assign df name and model type\n",
    "model_dict = {'ols_coef':ols,\n",
    "              'lasso_coef': lasso,\n",
    "              'ridge_coef': ridge}\n",
    "\n",
    "#Create empty dataframe to store MSE\n",
    "mse_df = pd.DataFrame({'model':\"\",\n",
    "                       'mse': 0},\n",
    "                      index=[0,1,2])\n",
    "list_mse = []\n",
    "\n",
    "for name, model in model_dict.items():\n",
    "    model.fit(X_train, y_train)\n",
    "    y_predicted = model.predict(X_val)\n",
    "    mse = mean_squared_error(y_predicted, y_val)\n",
    "    list_mse.append(mse)\n",
    "    \n",
    "    \n",
    "    #Grab dataset of values much like OLS\n",
    "    name = pd.DataFrame({'X': X.columns,\n",
    "                            'val': model.coef_\n",
    "                            })\n",
    "\n",
    "#Store MSE in dataframe as well \n",
    "mse_df = pd.DataFrame({'model':['ols', 'lasso', 'ridge'],\n",
    "                       'mse': list_mse},\n",
    "                      index=[0,1,2])\n"
   ]
  },
  {
   "cell_type": "markdown",
   "metadata": {},
   "source": [
    "### Plot Differences in MSE, Coefficients "
   ]
  },
  {
   "cell_type": "code",
   "execution_count": 12,
   "metadata": {},
   "outputs": [
    {
     "data": {
      "image/png": "[encoded data removed]",
      "text/plain": [
       "<Figure size 1080x720 with 1 Axes>"
      ]
     },
     "metadata": {
      "needs_background": "light"
     },
     "output_type": "display_data"
    }
   ],
   "source": [
    "plt.figure(figsize=(15,10))\n",
    "plt.barh(ols_coef['X'],ols_coef['val'],1,color=\"#D3B4B4\", label=\"Linear Regression\")\n",
    "plt.barh(lasso_coef['X'],lasso_coef['val'],1,color=\"#81BDB2\",label = \"LASSO Regularisation\")\n",
    "plt.barh(ridge_coef['X'],ridge_coef['val'],1 ,color=\"#7E7EC0\", label=\"Ridge Regularisation\")\n",
    "plt.grid(linewidth=0.3)\n",
    "plt.xlabel(\"Coefficient\")\n",
    "plt.ylabel(\"Predictors\")\n",
    "plt.legend(loc='best')\n",
    "plt.xlim(-6500,3500)\n",
    "plt.show()\n"
   ]
  },
  {
   "cell_type": "markdown",
   "metadata": {},
   "source": [
    "### Extra: Using Cross-Validation to Find Alpha\n",
    "\n",
    "Instead of imputing $\\lambda$ to be .008, we could have sklearn test multiple values, measure accuracy via a validation set, and pick the best alpha. Below is that code:"
   ]
  },
  {
   "cell_type": "code",
   "execution_count": 45,
   "metadata": {},
   "outputs": [
    {
     "name": "stdout",
     "output_type": "stream",
     "text": [
      "The best alpha for Ridge is: 0.001 \n"
     ]
    }
   ],
   "source": [
    "from sklearn.linear_model import RidgeCV, LassoCV\n",
    "\n",
    "#test 50 alpha between .001 and .1, split our data into 5 sets to validate, use negative MSE for scoring\n",
    "ridge_cv_model = RidgeCV(alphas = np.linspace(0.001, .1, 100), cv=5, scoring='neg_mean_absolute_error')\n",
    "\n",
    "ridge_cv_model.fit(X_train,y_train);\n",
    "\n",
    "ridge_alpha = ridge_cv_model.alpha_\n",
    "\n",
    "print(f\"The best alpha for Ridge is: {ridge_cv_model.alpha_} \")"
   ]
  },
  {
   "cell_type": "code",
   "execution_count": 46,
   "metadata": {},
   "outputs": [
    {
     "name": "stdout",
     "output_type": "stream",
     "text": [
      "The best alpha for Ridge is: 0.001 \n"
     ]
    }
   ],
   "source": [
    "#test 50 alpha between .001 and .1, split our data into 5 sets to validate, use negative MSE for scoring\n",
    "lasso_cv_model = LassoCV(alphas = np.linspace(0.001, .1, 100),n_alphas=100,cv=5)\n",
    "\n",
    "lasso_cv_model.fit(X_train,y_train);\n",
    "\n",
    "lasso_alpha = lasso_cv_model.alpha_\n",
    "\n",
    "print(f\"The best alpha for Ridge is: {lasso_cv_model.alpha_} \")"
   ]
  },
  {
   "cell_type": "markdown",
   "metadata": {},
   "source": [
    "Not surprisingly, in this low dimensional data where $n>>p$, the best alpha value for these models is the lowest possible. "
   ]
  }
 ],
 "metadata": {
  "interpreter": {
   "hash": "3472633a0c3319afea4dee893cd914becdcc9b59b8cbd89385fb4e7aafbcbb11"
  },
  "kernelspec": {
   "display_name": "Python 3.9.7 ('base')",
   "language": "python",
   "name": "python3"
  },
  "language_info": {
   "codemirror_mode": {
    "name": "ipython",
    "version": 3
   },
   "file_extension": ".py",
   "mimetype": "text/x-python",
   "name": "python",
   "nbconvert_exporter": "python",
   "pygments_lexer": "ipython3",
   "version": "3.9.7"
  },
  "orig_nbformat": 4
 },
 "nbformat": 4,
 "nbformat_minor": 2
}
